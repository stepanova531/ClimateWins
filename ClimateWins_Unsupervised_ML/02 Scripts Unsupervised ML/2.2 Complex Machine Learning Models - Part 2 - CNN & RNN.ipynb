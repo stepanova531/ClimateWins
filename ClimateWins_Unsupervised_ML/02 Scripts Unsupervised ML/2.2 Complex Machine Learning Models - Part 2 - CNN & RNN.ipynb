{
 "cells": [
  {
   "cell_type": "markdown",
   "id": "3f798a5d",
   "metadata": {},
   "source": [
    "# ClimateWins Project"
   ]
  },
  {
   "cell_type": "markdown",
   "id": "d127b3a5",
   "metadata": {},
   "source": [
    "## Content\n",
    "### 1. Importing libraries and data\n",
    "### 2. Splitting the data\n",
    "### 3. Creating CNN (Convolution Neural Network) model\n",
    "### 4. Creating RNN (Recurrent Neural Network) model"
   ]
  },
  {
   "cell_type": "markdown",
   "id": "3d3f8c59",
   "metadata": {},
   "source": [
    "## 1. Importing libraries and data"
   ]
  },
  {
   "cell_type": "code",
   "execution_count": 4,
   "id": "4c1285d8",
   "metadata": {},
   "outputs": [
    {
     "ename": "ImportError",
     "evalue": "cannot import name 'np_utils' from 'keras.utils' (C:\\Users\\Oksana Stepanova\\anaconda3\\Lib\\site-packages\\keras\\api\\utils\\__init__.py)",
     "output_type": "error",
     "traceback": [
      "\u001b[1;31m---------------------------------------------------------------------------\u001b[0m",
      "\u001b[1;31mImportError\u001b[0m                               Traceback (most recent call last)",
      "Cell \u001b[1;32mIn[4], line 17\u001b[0m\n\u001b[0;32m     15\u001b[0m \u001b[38;5;28;01mfrom\u001b[39;00m \u001b[38;5;21;01mkeras\u001b[39;00m\u001b[38;5;21;01m.\u001b[39;00m\u001b[38;5;21;01mlayers\u001b[39;00m \u001b[38;5;28;01mimport\u001b[39;00m LSTM\n\u001b[0;32m     16\u001b[0m \u001b[38;5;28;01mfrom\u001b[39;00m \u001b[38;5;21;01mkeras\u001b[39;00m\u001b[38;5;21;01m.\u001b[39;00m\u001b[38;5;21;01mlayers\u001b[39;00m \u001b[38;5;28;01mimport\u001b[39;00m Conv1D, Conv2D, Dense, BatchNormalization, Flatten, MaxPooling1D, Dense, Dropout\n\u001b[1;32m---> 17\u001b[0m \u001b[38;5;28;01mfrom\u001b[39;00m \u001b[38;5;21;01mkeras\u001b[39;00m\u001b[38;5;21;01m.\u001b[39;00m\u001b[38;5;21;01mutils\u001b[39;00m \u001b[38;5;28;01mimport\u001b[39;00m np_utils\n",
      "\u001b[1;31mImportError\u001b[0m: cannot import name 'np_utils' from 'keras.utils' (C:\\Users\\Oksana Stepanova\\anaconda3\\Lib\\site-packages\\keras\\api\\utils\\__init__.py)"
     ]
    }
   ],
   "source": [
    "# Import libraries\n",
    "import pandas as pd\n",
    "import numpy as np\n",
    "import seaborn as sns\n",
    "import os\n",
    "import operator\n",
    "import matplotlib.pyplot as plt\n",
    "from sklearn.model_selection import train_test_split\n",
    "from sklearn.preprocessing import LabelEncoder\n",
    "import tensorflow as tf\n",
    "from numpy import reshape\n",
    "from tensorflow import keras\n",
    "from tensorflow.keras import layers\n",
    "from keras.models import Sequential\n",
    "from keras.layers import LSTM\n",
    "from keras.layers import Conv1D, Conv2D, Dense, BatchNormalization, Flatten, MaxPooling1D, Dense, Dropout\n",
    "from keras.utils import np_utils"
   ]
  },
  {
   "cell_type": "code",
   "execution_count": 5,
   "id": "c63cfd1c",
   "metadata": {},
   "outputs": [],
   "source": [
    "# Create a path\n",
    "path=\"C:/Users/Oksana Stepanova/OneDrive/Документи/ClimateWins/Unsupervised/02 Data/\""
   ]
  },
  {
   "cell_type": "code",
   "execution_count": 6,
   "id": "82ef573a",
   "metadata": {},
   "outputs": [],
   "source": [
    "# Import weather data, cleaned file\n",
    "df=pd.read_csv(os.path.join(path, 'Prepared Data', 'weather_cleaned.csv'))"
   ]
  },
  {
   "cell_type": "code",
   "execution_count": 7,
   "id": "54e720d4",
   "metadata": {},
   "outputs": [
    {
     "data": {
      "text/plain": [
       "(22950, 136)"
      ]
     },
     "execution_count": 7,
     "metadata": {},
     "output_type": "execute_result"
    }
   ],
   "source": [
    "df.shape"
   ]
  },
  {
   "cell_type": "code",
   "execution_count": 8,
   "id": "d05704c6",
   "metadata": {},
   "outputs": [
    {
     "data": {
      "text/html": [
       "<div>\n",
       "<style scoped>\n",
       "    .dataframe tbody tr th:only-of-type {\n",
       "        vertical-align: middle;\n",
       "    }\n",
       "\n",
       "    .dataframe tbody tr th {\n",
       "        vertical-align: top;\n",
       "    }\n",
       "\n",
       "    .dataframe thead th {\n",
       "        text-align: right;\n",
       "    }\n",
       "</style>\n",
       "<table border=\"1\" class=\"dataframe\">\n",
       "  <thead>\n",
       "    <tr style=\"text-align: right;\">\n",
       "      <th></th>\n",
       "      <th>Unnamed: 0</th>\n",
       "      <th>BASEL_cloud_cover</th>\n",
       "      <th>BASEL_humidity</th>\n",
       "      <th>BASEL_pressure</th>\n",
       "      <th>BASEL_global_radiation</th>\n",
       "      <th>BASEL_precipitation</th>\n",
       "      <th>BASEL_sunshine</th>\n",
       "      <th>BASEL_temp_mean</th>\n",
       "      <th>BASEL_temp_min</th>\n",
       "      <th>BASEL_temp_max</th>\n",
       "      <th>...</th>\n",
       "      <th>STOCKHOLM_temp_max</th>\n",
       "      <th>VALENTIA_cloud_cover</th>\n",
       "      <th>VALENTIA_humidity</th>\n",
       "      <th>VALENTIA_pressure</th>\n",
       "      <th>VALENTIA_global_radiation</th>\n",
       "      <th>VALENTIA_precipitation</th>\n",
       "      <th>VALENTIA_sunshine</th>\n",
       "      <th>VALENTIA_temp_mean</th>\n",
       "      <th>VALENTIA_temp_min</th>\n",
       "      <th>VALENTIA_temp_max</th>\n",
       "    </tr>\n",
       "  </thead>\n",
       "  <tbody>\n",
       "    <tr>\n",
       "      <th>0</th>\n",
       "      <td>0</td>\n",
       "      <td>7</td>\n",
       "      <td>0.85</td>\n",
       "      <td>1.018</td>\n",
       "      <td>0.32</td>\n",
       "      <td>0.09</td>\n",
       "      <td>0.7</td>\n",
       "      <td>6.5</td>\n",
       "      <td>0.8</td>\n",
       "      <td>10.9</td>\n",
       "      <td>...</td>\n",
       "      <td>4.9</td>\n",
       "      <td>5</td>\n",
       "      <td>0.88</td>\n",
       "      <td>1.0003</td>\n",
       "      <td>0.45</td>\n",
       "      <td>0.34</td>\n",
       "      <td>4.7</td>\n",
       "      <td>8.5</td>\n",
       "      <td>6.0</td>\n",
       "      <td>10.9</td>\n",
       "    </tr>\n",
       "    <tr>\n",
       "      <th>1</th>\n",
       "      <td>1</td>\n",
       "      <td>6</td>\n",
       "      <td>0.84</td>\n",
       "      <td>1.018</td>\n",
       "      <td>0.36</td>\n",
       "      <td>1.05</td>\n",
       "      <td>1.1</td>\n",
       "      <td>6.1</td>\n",
       "      <td>3.3</td>\n",
       "      <td>10.1</td>\n",
       "      <td>...</td>\n",
       "      <td>5.0</td>\n",
       "      <td>7</td>\n",
       "      <td>0.91</td>\n",
       "      <td>1.0007</td>\n",
       "      <td>0.25</td>\n",
       "      <td>0.84</td>\n",
       "      <td>0.7</td>\n",
       "      <td>8.9</td>\n",
       "      <td>5.6</td>\n",
       "      <td>12.1</td>\n",
       "    </tr>\n",
       "    <tr>\n",
       "      <th>2</th>\n",
       "      <td>2</td>\n",
       "      <td>8</td>\n",
       "      <td>0.90</td>\n",
       "      <td>1.018</td>\n",
       "      <td>0.18</td>\n",
       "      <td>0.30</td>\n",
       "      <td>0.0</td>\n",
       "      <td>8.5</td>\n",
       "      <td>5.1</td>\n",
       "      <td>9.9</td>\n",
       "      <td>...</td>\n",
       "      <td>4.1</td>\n",
       "      <td>7</td>\n",
       "      <td>0.91</td>\n",
       "      <td>1.0096</td>\n",
       "      <td>0.17</td>\n",
       "      <td>0.08</td>\n",
       "      <td>0.1</td>\n",
       "      <td>10.5</td>\n",
       "      <td>8.1</td>\n",
       "      <td>12.9</td>\n",
       "    </tr>\n",
       "    <tr>\n",
       "      <th>3</th>\n",
       "      <td>3</td>\n",
       "      <td>3</td>\n",
       "      <td>0.92</td>\n",
       "      <td>1.018</td>\n",
       "      <td>0.58</td>\n",
       "      <td>0.00</td>\n",
       "      <td>4.1</td>\n",
       "      <td>6.3</td>\n",
       "      <td>3.8</td>\n",
       "      <td>10.6</td>\n",
       "      <td>...</td>\n",
       "      <td>2.3</td>\n",
       "      <td>7</td>\n",
       "      <td>0.86</td>\n",
       "      <td>1.0184</td>\n",
       "      <td>0.13</td>\n",
       "      <td>0.98</td>\n",
       "      <td>0.0</td>\n",
       "      <td>7.4</td>\n",
       "      <td>7.3</td>\n",
       "      <td>10.6</td>\n",
       "    </tr>\n",
       "    <tr>\n",
       "      <th>4</th>\n",
       "      <td>4</td>\n",
       "      <td>6</td>\n",
       "      <td>0.95</td>\n",
       "      <td>1.018</td>\n",
       "      <td>0.65</td>\n",
       "      <td>0.14</td>\n",
       "      <td>5.4</td>\n",
       "      <td>3.0</td>\n",
       "      <td>-0.7</td>\n",
       "      <td>6.0</td>\n",
       "      <td>...</td>\n",
       "      <td>4.3</td>\n",
       "      <td>3</td>\n",
       "      <td>0.80</td>\n",
       "      <td>1.0328</td>\n",
       "      <td>0.46</td>\n",
       "      <td>0.00</td>\n",
       "      <td>5.7</td>\n",
       "      <td>5.7</td>\n",
       "      <td>3.0</td>\n",
       "      <td>8.4</td>\n",
       "    </tr>\n",
       "  </tbody>\n",
       "</table>\n",
       "<p>5 rows × 136 columns</p>\n",
       "</div>"
      ],
      "text/plain": [
       "   Unnamed: 0  BASEL_cloud_cover  BASEL_humidity  BASEL_pressure  \\\n",
       "0           0                  7            0.85           1.018   \n",
       "1           1                  6            0.84           1.018   \n",
       "2           2                  8            0.90           1.018   \n",
       "3           3                  3            0.92           1.018   \n",
       "4           4                  6            0.95           1.018   \n",
       "\n",
       "   BASEL_global_radiation  BASEL_precipitation  BASEL_sunshine  \\\n",
       "0                    0.32                 0.09             0.7   \n",
       "1                    0.36                 1.05             1.1   \n",
       "2                    0.18                 0.30             0.0   \n",
       "3                    0.58                 0.00             4.1   \n",
       "4                    0.65                 0.14             5.4   \n",
       "\n",
       "   BASEL_temp_mean  BASEL_temp_min  BASEL_temp_max  ...  STOCKHOLM_temp_max  \\\n",
       "0              6.5             0.8            10.9  ...                 4.9   \n",
       "1              6.1             3.3            10.1  ...                 5.0   \n",
       "2              8.5             5.1             9.9  ...                 4.1   \n",
       "3              6.3             3.8            10.6  ...                 2.3   \n",
       "4              3.0            -0.7             6.0  ...                 4.3   \n",
       "\n",
       "   VALENTIA_cloud_cover  VALENTIA_humidity  VALENTIA_pressure  \\\n",
       "0                     5               0.88             1.0003   \n",
       "1                     7               0.91             1.0007   \n",
       "2                     7               0.91             1.0096   \n",
       "3                     7               0.86             1.0184   \n",
       "4                     3               0.80             1.0328   \n",
       "\n",
       "   VALENTIA_global_radiation  VALENTIA_precipitation  VALENTIA_sunshine  \\\n",
       "0                       0.45                    0.34                4.7   \n",
       "1                       0.25                    0.84                0.7   \n",
       "2                       0.17                    0.08                0.1   \n",
       "3                       0.13                    0.98                0.0   \n",
       "4                       0.46                    0.00                5.7   \n",
       "\n",
       "   VALENTIA_temp_mean  VALENTIA_temp_min  VALENTIA_temp_max  \n",
       "0                 8.5                6.0               10.9  \n",
       "1                 8.9                5.6               12.1  \n",
       "2                10.5                8.1               12.9  \n",
       "3                 7.4                7.3               10.6  \n",
       "4                 5.7                3.0                8.4  \n",
       "\n",
       "[5 rows x 136 columns]"
      ]
     },
     "execution_count": 8,
     "metadata": {},
     "output_type": "execute_result"
    }
   ],
   "source": [
    "df.head()"
   ]
  },
  {
   "cell_type": "code",
   "execution_count": 9,
   "id": "8cf6998c",
   "metadata": {},
   "outputs": [],
   "source": [
    "# Remove irrelevant column\n",
    "df=df.drop(columns=['Unnamed: 0'])"
   ]
  },
  {
   "cell_type": "code",
   "execution_count": 10,
   "id": "8d5393a7",
   "metadata": {},
   "outputs": [
    {
     "data": {
      "text/plain": [
       "(22950, 135)"
      ]
     },
     "execution_count": 10,
     "metadata": {},
     "output_type": "execute_result"
    }
   ],
   "source": [
    "df.shape"
   ]
  },
  {
   "cell_type": "code",
   "execution_count": 11,
   "id": "16f8a338",
   "metadata": {},
   "outputs": [
    {
     "data": {
      "text/html": [
       "<div>\n",
       "<style scoped>\n",
       "    .dataframe tbody tr th:only-of-type {\n",
       "        vertical-align: middle;\n",
       "    }\n",
       "\n",
       "    .dataframe tbody tr th {\n",
       "        vertical-align: top;\n",
       "    }\n",
       "\n",
       "    .dataframe thead th {\n",
       "        text-align: right;\n",
       "    }\n",
       "</style>\n",
       "<table border=\"1\" class=\"dataframe\">\n",
       "  <thead>\n",
       "    <tr style=\"text-align: right;\">\n",
       "      <th></th>\n",
       "      <th>BASEL_cloud_cover</th>\n",
       "      <th>BASEL_humidity</th>\n",
       "      <th>BASEL_pressure</th>\n",
       "      <th>BASEL_global_radiation</th>\n",
       "      <th>BASEL_precipitation</th>\n",
       "      <th>BASEL_sunshine</th>\n",
       "      <th>BASEL_temp_mean</th>\n",
       "      <th>BASEL_temp_min</th>\n",
       "      <th>BASEL_temp_max</th>\n",
       "      <th>BELGRADE_cloud_cover</th>\n",
       "      <th>...</th>\n",
       "      <th>STOCKHOLM_temp_max</th>\n",
       "      <th>VALENTIA_cloud_cover</th>\n",
       "      <th>VALENTIA_humidity</th>\n",
       "      <th>VALENTIA_pressure</th>\n",
       "      <th>VALENTIA_global_radiation</th>\n",
       "      <th>VALENTIA_precipitation</th>\n",
       "      <th>VALENTIA_sunshine</th>\n",
       "      <th>VALENTIA_temp_mean</th>\n",
       "      <th>VALENTIA_temp_min</th>\n",
       "      <th>VALENTIA_temp_max</th>\n",
       "    </tr>\n",
       "  </thead>\n",
       "  <tbody>\n",
       "    <tr>\n",
       "      <th>0</th>\n",
       "      <td>7</td>\n",
       "      <td>0.85</td>\n",
       "      <td>1.018</td>\n",
       "      <td>0.32</td>\n",
       "      <td>0.09</td>\n",
       "      <td>0.7</td>\n",
       "      <td>6.5</td>\n",
       "      <td>0.8</td>\n",
       "      <td>10.9</td>\n",
       "      <td>1</td>\n",
       "      <td>...</td>\n",
       "      <td>4.9</td>\n",
       "      <td>5</td>\n",
       "      <td>0.88</td>\n",
       "      <td>1.0003</td>\n",
       "      <td>0.45</td>\n",
       "      <td>0.34</td>\n",
       "      <td>4.7</td>\n",
       "      <td>8.5</td>\n",
       "      <td>6.0</td>\n",
       "      <td>10.9</td>\n",
       "    </tr>\n",
       "    <tr>\n",
       "      <th>1</th>\n",
       "      <td>6</td>\n",
       "      <td>0.84</td>\n",
       "      <td>1.018</td>\n",
       "      <td>0.36</td>\n",
       "      <td>1.05</td>\n",
       "      <td>1.1</td>\n",
       "      <td>6.1</td>\n",
       "      <td>3.3</td>\n",
       "      <td>10.1</td>\n",
       "      <td>6</td>\n",
       "      <td>...</td>\n",
       "      <td>5.0</td>\n",
       "      <td>7</td>\n",
       "      <td>0.91</td>\n",
       "      <td>1.0007</td>\n",
       "      <td>0.25</td>\n",
       "      <td>0.84</td>\n",
       "      <td>0.7</td>\n",
       "      <td>8.9</td>\n",
       "      <td>5.6</td>\n",
       "      <td>12.1</td>\n",
       "    </tr>\n",
       "    <tr>\n",
       "      <th>2</th>\n",
       "      <td>8</td>\n",
       "      <td>0.90</td>\n",
       "      <td>1.018</td>\n",
       "      <td>0.18</td>\n",
       "      <td>0.30</td>\n",
       "      <td>0.0</td>\n",
       "      <td>8.5</td>\n",
       "      <td>5.1</td>\n",
       "      <td>9.9</td>\n",
       "      <td>6</td>\n",
       "      <td>...</td>\n",
       "      <td>4.1</td>\n",
       "      <td>7</td>\n",
       "      <td>0.91</td>\n",
       "      <td>1.0096</td>\n",
       "      <td>0.17</td>\n",
       "      <td>0.08</td>\n",
       "      <td>0.1</td>\n",
       "      <td>10.5</td>\n",
       "      <td>8.1</td>\n",
       "      <td>12.9</td>\n",
       "    </tr>\n",
       "    <tr>\n",
       "      <th>3</th>\n",
       "      <td>3</td>\n",
       "      <td>0.92</td>\n",
       "      <td>1.018</td>\n",
       "      <td>0.58</td>\n",
       "      <td>0.00</td>\n",
       "      <td>4.1</td>\n",
       "      <td>6.3</td>\n",
       "      <td>3.8</td>\n",
       "      <td>10.6</td>\n",
       "      <td>8</td>\n",
       "      <td>...</td>\n",
       "      <td>2.3</td>\n",
       "      <td>7</td>\n",
       "      <td>0.86</td>\n",
       "      <td>1.0184</td>\n",
       "      <td>0.13</td>\n",
       "      <td>0.98</td>\n",
       "      <td>0.0</td>\n",
       "      <td>7.4</td>\n",
       "      <td>7.3</td>\n",
       "      <td>10.6</td>\n",
       "    </tr>\n",
       "    <tr>\n",
       "      <th>4</th>\n",
       "      <td>6</td>\n",
       "      <td>0.95</td>\n",
       "      <td>1.018</td>\n",
       "      <td>0.65</td>\n",
       "      <td>0.14</td>\n",
       "      <td>5.4</td>\n",
       "      <td>3.0</td>\n",
       "      <td>-0.7</td>\n",
       "      <td>6.0</td>\n",
       "      <td>8</td>\n",
       "      <td>...</td>\n",
       "      <td>4.3</td>\n",
       "      <td>3</td>\n",
       "      <td>0.80</td>\n",
       "      <td>1.0328</td>\n",
       "      <td>0.46</td>\n",
       "      <td>0.00</td>\n",
       "      <td>5.7</td>\n",
       "      <td>5.7</td>\n",
       "      <td>3.0</td>\n",
       "      <td>8.4</td>\n",
       "    </tr>\n",
       "  </tbody>\n",
       "</table>\n",
       "<p>5 rows × 135 columns</p>\n",
       "</div>"
      ],
      "text/plain": [
       "   BASEL_cloud_cover  BASEL_humidity  BASEL_pressure  BASEL_global_radiation  \\\n",
       "0                  7            0.85           1.018                    0.32   \n",
       "1                  6            0.84           1.018                    0.36   \n",
       "2                  8            0.90           1.018                    0.18   \n",
       "3                  3            0.92           1.018                    0.58   \n",
       "4                  6            0.95           1.018                    0.65   \n",
       "\n",
       "   BASEL_precipitation  BASEL_sunshine  BASEL_temp_mean  BASEL_temp_min  \\\n",
       "0                 0.09             0.7              6.5             0.8   \n",
       "1                 1.05             1.1              6.1             3.3   \n",
       "2                 0.30             0.0              8.5             5.1   \n",
       "3                 0.00             4.1              6.3             3.8   \n",
       "4                 0.14             5.4              3.0            -0.7   \n",
       "\n",
       "   BASEL_temp_max  BELGRADE_cloud_cover  ...  STOCKHOLM_temp_max  \\\n",
       "0            10.9                     1  ...                 4.9   \n",
       "1            10.1                     6  ...                 5.0   \n",
       "2             9.9                     6  ...                 4.1   \n",
       "3            10.6                     8  ...                 2.3   \n",
       "4             6.0                     8  ...                 4.3   \n",
       "\n",
       "   VALENTIA_cloud_cover  VALENTIA_humidity  VALENTIA_pressure  \\\n",
       "0                     5               0.88             1.0003   \n",
       "1                     7               0.91             1.0007   \n",
       "2                     7               0.91             1.0096   \n",
       "3                     7               0.86             1.0184   \n",
       "4                     3               0.80             1.0328   \n",
       "\n",
       "   VALENTIA_global_radiation  VALENTIA_precipitation  VALENTIA_sunshine  \\\n",
       "0                       0.45                    0.34                4.7   \n",
       "1                       0.25                    0.84                0.7   \n",
       "2                       0.17                    0.08                0.1   \n",
       "3                       0.13                    0.98                0.0   \n",
       "4                       0.46                    0.00                5.7   \n",
       "\n",
       "   VALENTIA_temp_mean  VALENTIA_temp_min  VALENTIA_temp_max  \n",
       "0                 8.5                6.0               10.9  \n",
       "1                 8.9                5.6               12.1  \n",
       "2                10.5                8.1               12.9  \n",
       "3                 7.4                7.3               10.6  \n",
       "4                 5.7                3.0                8.4  \n",
       "\n",
       "[5 rows x 135 columns]"
      ]
     },
     "execution_count": 11,
     "metadata": {},
     "output_type": "execute_result"
    }
   ],
   "source": [
    "df.head()"
   ]
  },
  {
   "cell_type": "code",
   "execution_count": 12,
   "id": "89f679b8",
   "metadata": {},
   "outputs": [],
   "source": [
    "# Import Pleasant weather data, cleaned file\n",
    "df_ans=pd.read_csv(os.path.join(path, 'Prepared Data', 'weather_answers_cleaned.csv'))"
   ]
  },
  {
   "cell_type": "code",
   "execution_count": 13,
   "id": "ffc7e2f9",
   "metadata": {},
   "outputs": [
    {
     "data": {
      "text/plain": [
       "(22950, 16)"
      ]
     },
     "execution_count": 13,
     "metadata": {},
     "output_type": "execute_result"
    }
   ],
   "source": [
    "df_ans.shape"
   ]
  },
  {
   "cell_type": "code",
   "execution_count": 14,
   "id": "568778e5",
   "metadata": {},
   "outputs": [
    {
     "data": {
      "text/html": [
       "<div>\n",
       "<style scoped>\n",
       "    .dataframe tbody tr th:only-of-type {\n",
       "        vertical-align: middle;\n",
       "    }\n",
       "\n",
       "    .dataframe tbody tr th {\n",
       "        vertical-align: top;\n",
       "    }\n",
       "\n",
       "    .dataframe thead th {\n",
       "        text-align: right;\n",
       "    }\n",
       "</style>\n",
       "<table border=\"1\" class=\"dataframe\">\n",
       "  <thead>\n",
       "    <tr style=\"text-align: right;\">\n",
       "      <th></th>\n",
       "      <th>Unnamed: 0</th>\n",
       "      <th>BASEL_pleasant_weather</th>\n",
       "      <th>BELGRADE_pleasant_weather</th>\n",
       "      <th>BUDAPEST_pleasant_weather</th>\n",
       "      <th>DEBILT_pleasant_weather</th>\n",
       "      <th>DUSSELDORF_pleasant_weather</th>\n",
       "      <th>HEATHROW_pleasant_weather</th>\n",
       "      <th>KASSEL_pleasant_weather</th>\n",
       "      <th>LJUBLJANA_pleasant_weather</th>\n",
       "      <th>MAASTRICHT_pleasant_weather</th>\n",
       "      <th>MADRID_pleasant_weather</th>\n",
       "      <th>MUNCHENB_pleasant_weather</th>\n",
       "      <th>OSLO_pleasant_weather</th>\n",
       "      <th>SONNBLICK_pleasant_weather</th>\n",
       "      <th>STOCKHOLM_pleasant_weather</th>\n",
       "      <th>VALENTIA_pleasant_weather</th>\n",
       "    </tr>\n",
       "  </thead>\n",
       "  <tbody>\n",
       "    <tr>\n",
       "      <th>0</th>\n",
       "      <td>0</td>\n",
       "      <td>0</td>\n",
       "      <td>0</td>\n",
       "      <td>0</td>\n",
       "      <td>0</td>\n",
       "      <td>0</td>\n",
       "      <td>0</td>\n",
       "      <td>0</td>\n",
       "      <td>0</td>\n",
       "      <td>0</td>\n",
       "      <td>0</td>\n",
       "      <td>0</td>\n",
       "      <td>0</td>\n",
       "      <td>0</td>\n",
       "      <td>0</td>\n",
       "      <td>0</td>\n",
       "    </tr>\n",
       "    <tr>\n",
       "      <th>1</th>\n",
       "      <td>1</td>\n",
       "      <td>0</td>\n",
       "      <td>0</td>\n",
       "      <td>0</td>\n",
       "      <td>0</td>\n",
       "      <td>0</td>\n",
       "      <td>0</td>\n",
       "      <td>0</td>\n",
       "      <td>0</td>\n",
       "      <td>0</td>\n",
       "      <td>0</td>\n",
       "      <td>0</td>\n",
       "      <td>0</td>\n",
       "      <td>0</td>\n",
       "      <td>0</td>\n",
       "      <td>0</td>\n",
       "    </tr>\n",
       "    <tr>\n",
       "      <th>2</th>\n",
       "      <td>2</td>\n",
       "      <td>0</td>\n",
       "      <td>0</td>\n",
       "      <td>0</td>\n",
       "      <td>0</td>\n",
       "      <td>0</td>\n",
       "      <td>0</td>\n",
       "      <td>0</td>\n",
       "      <td>0</td>\n",
       "      <td>0</td>\n",
       "      <td>0</td>\n",
       "      <td>0</td>\n",
       "      <td>0</td>\n",
       "      <td>0</td>\n",
       "      <td>0</td>\n",
       "      <td>0</td>\n",
       "    </tr>\n",
       "    <tr>\n",
       "      <th>3</th>\n",
       "      <td>3</td>\n",
       "      <td>0</td>\n",
       "      <td>0</td>\n",
       "      <td>0</td>\n",
       "      <td>0</td>\n",
       "      <td>0</td>\n",
       "      <td>0</td>\n",
       "      <td>0</td>\n",
       "      <td>0</td>\n",
       "      <td>0</td>\n",
       "      <td>0</td>\n",
       "      <td>0</td>\n",
       "      <td>0</td>\n",
       "      <td>0</td>\n",
       "      <td>0</td>\n",
       "      <td>0</td>\n",
       "    </tr>\n",
       "    <tr>\n",
       "      <th>4</th>\n",
       "      <td>4</td>\n",
       "      <td>0</td>\n",
       "      <td>0</td>\n",
       "      <td>0</td>\n",
       "      <td>0</td>\n",
       "      <td>0</td>\n",
       "      <td>0</td>\n",
       "      <td>0</td>\n",
       "      <td>0</td>\n",
       "      <td>0</td>\n",
       "      <td>0</td>\n",
       "      <td>0</td>\n",
       "      <td>0</td>\n",
       "      <td>0</td>\n",
       "      <td>0</td>\n",
       "      <td>0</td>\n",
       "    </tr>\n",
       "  </tbody>\n",
       "</table>\n",
       "</div>"
      ],
      "text/plain": [
       "   Unnamed: 0  BASEL_pleasant_weather  BELGRADE_pleasant_weather  \\\n",
       "0           0                       0                          0   \n",
       "1           1                       0                          0   \n",
       "2           2                       0                          0   \n",
       "3           3                       0                          0   \n",
       "4           4                       0                          0   \n",
       "\n",
       "   BUDAPEST_pleasant_weather  DEBILT_pleasant_weather  \\\n",
       "0                          0                        0   \n",
       "1                          0                        0   \n",
       "2                          0                        0   \n",
       "3                          0                        0   \n",
       "4                          0                        0   \n",
       "\n",
       "   DUSSELDORF_pleasant_weather  HEATHROW_pleasant_weather  \\\n",
       "0                            0                          0   \n",
       "1                            0                          0   \n",
       "2                            0                          0   \n",
       "3                            0                          0   \n",
       "4                            0                          0   \n",
       "\n",
       "   KASSEL_pleasant_weather  LJUBLJANA_pleasant_weather  \\\n",
       "0                        0                           0   \n",
       "1                        0                           0   \n",
       "2                        0                           0   \n",
       "3                        0                           0   \n",
       "4                        0                           0   \n",
       "\n",
       "   MAASTRICHT_pleasant_weather  MADRID_pleasant_weather  \\\n",
       "0                            0                        0   \n",
       "1                            0                        0   \n",
       "2                            0                        0   \n",
       "3                            0                        0   \n",
       "4                            0                        0   \n",
       "\n",
       "   MUNCHENB_pleasant_weather  OSLO_pleasant_weather  \\\n",
       "0                          0                      0   \n",
       "1                          0                      0   \n",
       "2                          0                      0   \n",
       "3                          0                      0   \n",
       "4                          0                      0   \n",
       "\n",
       "   SONNBLICK_pleasant_weather  STOCKHOLM_pleasant_weather  \\\n",
       "0                           0                           0   \n",
       "1                           0                           0   \n",
       "2                           0                           0   \n",
       "3                           0                           0   \n",
       "4                           0                           0   \n",
       "\n",
       "   VALENTIA_pleasant_weather  \n",
       "0                          0  \n",
       "1                          0  \n",
       "2                          0  \n",
       "3                          0  \n",
       "4                          0  "
      ]
     },
     "execution_count": 14,
     "metadata": {},
     "output_type": "execute_result"
    }
   ],
   "source": [
    "df_ans.head()"
   ]
  },
  {
   "cell_type": "code",
   "execution_count": 15,
   "id": "ba300601",
   "metadata": {},
   "outputs": [],
   "source": [
    "# Remove irrelevant column\n",
    "df_ans=df_ans.drop(columns=['Unnamed: 0'])"
   ]
  },
  {
   "cell_type": "code",
   "execution_count": 16,
   "id": "08bbd7f6",
   "metadata": {},
   "outputs": [
    {
     "data": {
      "text/plain": [
       "(22950, 15)"
      ]
     },
     "execution_count": 16,
     "metadata": {},
     "output_type": "execute_result"
    }
   ],
   "source": [
    "df_ans.shape"
   ]
  },
  {
   "cell_type": "code",
   "execution_count": 17,
   "id": "ed3954dc",
   "metadata": {},
   "outputs": [
    {
     "data": {
      "text/html": [
       "<div>\n",
       "<style scoped>\n",
       "    .dataframe tbody tr th:only-of-type {\n",
       "        vertical-align: middle;\n",
       "    }\n",
       "\n",
       "    .dataframe tbody tr th {\n",
       "        vertical-align: top;\n",
       "    }\n",
       "\n",
       "    .dataframe thead th {\n",
       "        text-align: right;\n",
       "    }\n",
       "</style>\n",
       "<table border=\"1\" class=\"dataframe\">\n",
       "  <thead>\n",
       "    <tr style=\"text-align: right;\">\n",
       "      <th></th>\n",
       "      <th>BASEL_pleasant_weather</th>\n",
       "      <th>BELGRADE_pleasant_weather</th>\n",
       "      <th>BUDAPEST_pleasant_weather</th>\n",
       "      <th>DEBILT_pleasant_weather</th>\n",
       "      <th>DUSSELDORF_pleasant_weather</th>\n",
       "      <th>HEATHROW_pleasant_weather</th>\n",
       "      <th>KASSEL_pleasant_weather</th>\n",
       "      <th>LJUBLJANA_pleasant_weather</th>\n",
       "      <th>MAASTRICHT_pleasant_weather</th>\n",
       "      <th>MADRID_pleasant_weather</th>\n",
       "      <th>MUNCHENB_pleasant_weather</th>\n",
       "      <th>OSLO_pleasant_weather</th>\n",
       "      <th>SONNBLICK_pleasant_weather</th>\n",
       "      <th>STOCKHOLM_pleasant_weather</th>\n",
       "      <th>VALENTIA_pleasant_weather</th>\n",
       "    </tr>\n",
       "  </thead>\n",
       "  <tbody>\n",
       "    <tr>\n",
       "      <th>0</th>\n",
       "      <td>0</td>\n",
       "      <td>0</td>\n",
       "      <td>0</td>\n",
       "      <td>0</td>\n",
       "      <td>0</td>\n",
       "      <td>0</td>\n",
       "      <td>0</td>\n",
       "      <td>0</td>\n",
       "      <td>0</td>\n",
       "      <td>0</td>\n",
       "      <td>0</td>\n",
       "      <td>0</td>\n",
       "      <td>0</td>\n",
       "      <td>0</td>\n",
       "      <td>0</td>\n",
       "    </tr>\n",
       "    <tr>\n",
       "      <th>1</th>\n",
       "      <td>0</td>\n",
       "      <td>0</td>\n",
       "      <td>0</td>\n",
       "      <td>0</td>\n",
       "      <td>0</td>\n",
       "      <td>0</td>\n",
       "      <td>0</td>\n",
       "      <td>0</td>\n",
       "      <td>0</td>\n",
       "      <td>0</td>\n",
       "      <td>0</td>\n",
       "      <td>0</td>\n",
       "      <td>0</td>\n",
       "      <td>0</td>\n",
       "      <td>0</td>\n",
       "    </tr>\n",
       "    <tr>\n",
       "      <th>2</th>\n",
       "      <td>0</td>\n",
       "      <td>0</td>\n",
       "      <td>0</td>\n",
       "      <td>0</td>\n",
       "      <td>0</td>\n",
       "      <td>0</td>\n",
       "      <td>0</td>\n",
       "      <td>0</td>\n",
       "      <td>0</td>\n",
       "      <td>0</td>\n",
       "      <td>0</td>\n",
       "      <td>0</td>\n",
       "      <td>0</td>\n",
       "      <td>0</td>\n",
       "      <td>0</td>\n",
       "    </tr>\n",
       "    <tr>\n",
       "      <th>3</th>\n",
       "      <td>0</td>\n",
       "      <td>0</td>\n",
       "      <td>0</td>\n",
       "      <td>0</td>\n",
       "      <td>0</td>\n",
       "      <td>0</td>\n",
       "      <td>0</td>\n",
       "      <td>0</td>\n",
       "      <td>0</td>\n",
       "      <td>0</td>\n",
       "      <td>0</td>\n",
       "      <td>0</td>\n",
       "      <td>0</td>\n",
       "      <td>0</td>\n",
       "      <td>0</td>\n",
       "    </tr>\n",
       "    <tr>\n",
       "      <th>4</th>\n",
       "      <td>0</td>\n",
       "      <td>0</td>\n",
       "      <td>0</td>\n",
       "      <td>0</td>\n",
       "      <td>0</td>\n",
       "      <td>0</td>\n",
       "      <td>0</td>\n",
       "      <td>0</td>\n",
       "      <td>0</td>\n",
       "      <td>0</td>\n",
       "      <td>0</td>\n",
       "      <td>0</td>\n",
       "      <td>0</td>\n",
       "      <td>0</td>\n",
       "      <td>0</td>\n",
       "    </tr>\n",
       "  </tbody>\n",
       "</table>\n",
       "</div>"
      ],
      "text/plain": [
       "   BASEL_pleasant_weather  BELGRADE_pleasant_weather  \\\n",
       "0                       0                          0   \n",
       "1                       0                          0   \n",
       "2                       0                          0   \n",
       "3                       0                          0   \n",
       "4                       0                          0   \n",
       "\n",
       "   BUDAPEST_pleasant_weather  DEBILT_pleasant_weather  \\\n",
       "0                          0                        0   \n",
       "1                          0                        0   \n",
       "2                          0                        0   \n",
       "3                          0                        0   \n",
       "4                          0                        0   \n",
       "\n",
       "   DUSSELDORF_pleasant_weather  HEATHROW_pleasant_weather  \\\n",
       "0                            0                          0   \n",
       "1                            0                          0   \n",
       "2                            0                          0   \n",
       "3                            0                          0   \n",
       "4                            0                          0   \n",
       "\n",
       "   KASSEL_pleasant_weather  LJUBLJANA_pleasant_weather  \\\n",
       "0                        0                           0   \n",
       "1                        0                           0   \n",
       "2                        0                           0   \n",
       "3                        0                           0   \n",
       "4                        0                           0   \n",
       "\n",
       "   MAASTRICHT_pleasant_weather  MADRID_pleasant_weather  \\\n",
       "0                            0                        0   \n",
       "1                            0                        0   \n",
       "2                            0                        0   \n",
       "3                            0                        0   \n",
       "4                            0                        0   \n",
       "\n",
       "   MUNCHENB_pleasant_weather  OSLO_pleasant_weather  \\\n",
       "0                          0                      0   \n",
       "1                          0                      0   \n",
       "2                          0                      0   \n",
       "3                          0                      0   \n",
       "4                          0                      0   \n",
       "\n",
       "   SONNBLICK_pleasant_weather  STOCKHOLM_pleasant_weather  \\\n",
       "0                           0                           0   \n",
       "1                           0                           0   \n",
       "2                           0                           0   \n",
       "3                           0                           0   \n",
       "4                           0                           0   \n",
       "\n",
       "   VALENTIA_pleasant_weather  \n",
       "0                          0  \n",
       "1                          0  \n",
       "2                          0  \n",
       "3                          0  \n",
       "4                          0  "
      ]
     },
     "execution_count": 17,
     "metadata": {},
     "output_type": "execute_result"
    }
   ],
   "source": [
    "df_ans.head()"
   ]
  },
  {
   "cell_type": "markdown",
   "id": "64f4072c",
   "metadata": {},
   "source": [
    "## 2. Splitting the data"
   ]
  },
  {
   "cell_type": "code",
   "execution_count": 19,
   "id": "aee7d3ee",
   "metadata": {},
   "outputs": [],
   "source": [
    "# Create an 'X' matrix\n",
    "X = df\n",
    "y = df_ans"
   ]
  },
  {
   "cell_type": "code",
   "execution_count": 20,
   "id": "10aa3006",
   "metadata": {},
   "outputs": [],
   "source": [
    "X = np.array(X)\n",
    "y = np.array(y)"
   ]
  },
  {
   "cell_type": "code",
   "execution_count": 21,
   "id": "6f0b0756",
   "metadata": {},
   "outputs": [],
   "source": [
    "X = X.reshape(-1,15,9)"
   ]
  },
  {
   "cell_type": "code",
   "execution_count": 22,
   "id": "ea68c5ef",
   "metadata": {},
   "outputs": [],
   "source": [
    "#Split data into training and testing sets.\n",
    "X_train, X_test, y_train, y_test = train_test_split(X,y,test_size=0.2)"
   ]
  },
  {
   "cell_type": "code",
   "execution_count": 23,
   "id": "d2e34046",
   "metadata": {},
   "outputs": [
    {
     "name": "stdout",
     "output_type": "stream",
     "text": [
      "(18360, 15, 9) (18360, 15)\n",
      "(4590, 15, 9) (4590, 15)\n"
     ]
    }
   ],
   "source": [
    "print(X_train.shape, y_train.shape)\n",
    "print(X_test.shape, y_test.shape)"
   ]
  },
  {
   "cell_type": "code",
   "execution_count": 24,
   "id": "505756b8",
   "metadata": {},
   "outputs": [
    {
     "data": {
      "text/plain": [
       "array([[[  6.    ,   0.65  ,   1.0174, ...,  15.5   ,   9.2   ,\n",
       "          20.6   ],\n",
       "        [  6.    ,   0.67  ,   1.0176, ...,  15.2   ,  14.3   ,\n",
       "          18.8   ],\n",
       "        [  4.    ,   0.67  ,   1.017 , ...,  15.9   ,  12.2   ,\n",
       "          21.4   ],\n",
       "        ...,\n",
       "        [  4.    ,   0.91  ,   1.0358, ...,  -5.5   ,  -8.3   ,\n",
       "          -2.7   ],\n",
       "        [  5.    ,   0.85  ,   1.0053, ...,   6.5   ,   5.1   ,\n",
       "           8.8   ],\n",
       "        [  5.    ,   0.82  ,   1.0142, ...,  10.7   ,   7.9   ,\n",
       "          13.5   ]],\n",
       "\n",
       "       [[  4.    ,   0.73  ,   1.0234, ...,  15.5   ,   9.2   ,\n",
       "          24.    ],\n",
       "        [  0.    ,   0.69  ,   1.024 , ...,  18.    ,  12.4   ,\n",
       "          26.    ],\n",
       "        [  2.    ,   0.77  ,   1.0237, ...,  17.9   ,  13.7   ,\n",
       "          23.8   ],\n",
       "        ...,\n",
       "        [  3.    ,   0.92  ,   1.0392, ...,   1.4   ,  -0.8   ,\n",
       "           3.5   ],\n",
       "        [  1.    ,   0.6   ,   1.0049, ...,  12.1   ,  10.2   ,\n",
       "          15.4   ],\n",
       "        [  6.    ,   0.9   ,   1.0069, ...,  14.5   ,  12.9   ,\n",
       "          16.1   ]],\n",
       "\n",
       "       [[  4.    ,   0.72  ,   1.0171, ...,  15.6   ,   8.7   ,\n",
       "          22.1   ],\n",
       "        [  3.    ,   0.68  ,   1.0144, ...,  21.8   ,  16.    ,\n",
       "          27.7   ],\n",
       "        [  4.    ,   0.67  ,   1.017 , ...,  20.7   ,  15.4   ,\n",
       "          26.8   ],\n",
       "        ...,\n",
       "        [  7.    ,   1.    ,   1.0324, ...,  -0.9   ,  -2.5   ,\n",
       "           0.7   ],\n",
       "        [  5.    ,   0.86  ,   1.0188, ...,  16.2   ,  11.9   ,\n",
       "          20.3   ],\n",
       "        [  5.    ,   0.82  ,   1.0142, ...,  10.7   ,   7.9   ,\n",
       "          13.5   ]],\n",
       "\n",
       "       ...,\n",
       "\n",
       "       [[  3.    ,   0.8   ,   1.0139, ...,  -1.    ,  -3.8   ,\n",
       "           2.3   ],\n",
       "        [  7.    ,   0.71  ,   1.0132, ...,   1.9   ,  -4.1   ,\n",
       "           5.7   ],\n",
       "        [  7.    ,   0.66  ,   1.012 , ...,  -1.    ,  -3.9   ,\n",
       "           3.    ],\n",
       "        ...,\n",
       "        [  1.    ,   0.37  ,   1.025 , ..., -13.3   , -14.6   ,\n",
       "         -11.9   ],\n",
       "        [  8.    ,   0.72  ,   0.996 , ...,  -3.8   ,  -4.8   ,\n",
       "          -1.8   ],\n",
       "        [  4.    ,   0.87  ,   1.0166, ...,   4.2   ,  -1.1   ,\n",
       "           9.5   ]],\n",
       "\n",
       "       [[  7.    ,   0.57  ,   1.0207, ...,  21.5   ,  13.8   ,\n",
       "          28.4   ],\n",
       "        [  5.    ,   0.65  ,   1.0182, ...,  22.5   ,  17.4   ,\n",
       "          27.4   ],\n",
       "        [  4.    ,   0.67  ,   1.017 , ...,  21.4   ,  17.    ,\n",
       "          25.4   ],\n",
       "        ...,\n",
       "        [  6.    ,   0.76  ,   1.037 , ...,   1.5   ,  -1.    ,\n",
       "           3.9   ],\n",
       "        [  5.    ,   0.78  ,   1.0136, ...,  17.8   ,  14.9   ,\n",
       "          22.1   ],\n",
       "        [  5.    ,   0.82  ,   1.0142, ...,  10.7   ,   7.9   ,\n",
       "          13.5   ]],\n",
       "\n",
       "       [[  5.    ,   0.69  ,   1.014 , ...,  23.8   ,  18.4   ,\n",
       "          31.    ],\n",
       "        [  0.    ,   0.54  ,   1.018 , ...,  25.1   ,  18.8   ,\n",
       "          31.7   ],\n",
       "        [  4.    ,   0.67  ,   1.017 , ...,  24.3   ,  17.1   ,\n",
       "          31.1   ],\n",
       "        ...,\n",
       "        [  4.    ,   0.72  ,   1.0292, ...,   8.5   ,   6.    ,\n",
       "          11.    ],\n",
       "        [  4.    ,   0.76  ,   1.0124, ...,  18.    ,  14.3   ,\n",
       "          23.2   ],\n",
       "        [  5.    ,   0.82  ,   1.0142, ...,  10.7   ,   7.9   ,\n",
       "          13.5   ]]])"
      ]
     },
     "execution_count": 24,
     "metadata": {},
     "output_type": "execute_result"
    }
   ],
   "source": [
    "X_train"
   ]
  },
  {
   "cell_type": "code",
   "execution_count": 25,
   "id": "51fcc83a",
   "metadata": {},
   "outputs": [
    {
     "data": {
      "text/plain": [
       "15"
      ]
     },
     "execution_count": 25,
     "metadata": {},
     "output_type": "execute_result"
    }
   ],
   "source": [
    "len(X_train[0])"
   ]
  },
  {
   "cell_type": "code",
   "execution_count": 26,
   "id": "d0f0089b",
   "metadata": {},
   "outputs": [
    {
     "data": {
      "text/plain": [
       "9"
      ]
     },
     "execution_count": 26,
     "metadata": {},
     "output_type": "execute_result"
    }
   ],
   "source": [
    "len(X_train[0][0])"
   ]
  },
  {
   "cell_type": "code",
   "execution_count": 27,
   "id": "9f876281",
   "metadata": {},
   "outputs": [
    {
     "data": {
      "text/plain": [
       "array([[0, 1, 1, ..., 0, 0, 0],\n",
       "       [1, 1, 1, ..., 0, 0, 0],\n",
       "       [1, 1, 1, ..., 0, 1, 0],\n",
       "       ...,\n",
       "       [0, 0, 0, ..., 0, 0, 0],\n",
       "       [1, 0, 1, ..., 0, 1, 0],\n",
       "       [0, 1, 1, ..., 0, 0, 0]], dtype=int64)"
      ]
     },
     "execution_count": 27,
     "metadata": {},
     "output_type": "execute_result"
    }
   ],
   "source": [
    "y_train"
   ]
  },
  {
   "cell_type": "code",
   "execution_count": 28,
   "id": "b3e9a961",
   "metadata": {},
   "outputs": [
    {
     "data": {
      "text/plain": [
       "15"
      ]
     },
     "execution_count": 28,
     "metadata": {},
     "output_type": "execute_result"
    }
   ],
   "source": [
    "len(y_train[0])"
   ]
  },
  {
   "cell_type": "markdown",
   "id": "aa49e70d",
   "metadata": {},
   "source": [
    "## 3. Creating CNN (Convolution Neural Network) model"
   ]
  },
  {
   "cell_type": "code",
   "execution_count": 30,
   "id": "33934997",
   "metadata": {},
   "outputs": [],
   "source": [
    "stations = {\n",
    "    0: 'BASEL',\n",
    "    1: 'BELGRADE',\n",
    "    2: 'BUDAPEST',\n",
    "    3: 'DEBILT',\n",
    "    4: 'DUSSELDORF',\n",
    "    5: 'HEATHROW',\n",
    "    6: 'KASSEL',\n",
    "    7: 'LJUBLJANA',\n",
    "    8: 'MAASTRICHT',\n",
    "    9: 'MADRID',\n",
    "   10: 'MUNCHENB',\n",
    "   11: 'OSLO',\n",
    "   12: 'SONNBLICK',\n",
    "   13: 'STOCKHOLM',\n",
    "   14: 'VALENTIA',\n",
    "}"
   ]
  },
  {
   "cell_type": "code",
   "execution_count": 31,
   "id": "3aed35f2",
   "metadata": {},
   "outputs": [
    {
     "name": "stderr",
     "output_type": "stream",
     "text": [
      "C:\\Users\\Oksana Stepanova\\anaconda3\\Lib\\site-packages\\keras\\src\\layers\\convolutional\\base_conv.py:107: UserWarning: Do not pass an `input_shape`/`input_dim` argument to a layer. When using Sequential models, prefer using an `Input(shape)` object as the first layer in the model instead.\n",
      "  super().__init__(activity_regularizer=activity_regularizer, **kwargs)\n"
     ]
    }
   ],
   "source": [
    "# Create a Keras leyered model. Use initial hyperparameters: 8, 16, 32, softmax\n",
    "epochs = 8\n",
    "batch_size = 16\n",
    "n_hidden = 32\n",
    "\n",
    "timesteps = len(X_train[0])\n",
    "input_dim = len(X_train[0][0])\n",
    "n_classes = len(y_train[0])\n",
    "\n",
    "model = Sequential()\n",
    "model.add(Conv1D(n_hidden, kernel_size=2, activation='relu', input_shape=(timesteps, input_dim)))\n",
    "model.add(Dense(16, activation='relu'))\n",
    "model.add(MaxPooling1D())\n",
    "model.add(Flatten())\n",
    "model.add(Dense(n_classes, activation='softmax')) "
   ]
  },
  {
   "cell_type": "code",
   "execution_count": 32,
   "id": "4893cecd",
   "metadata": {},
   "outputs": [],
   "source": [
    "model.compile(loss='categorical_crossentropy', optimizer='adam', metrics=['accuracy'])"
   ]
  },
  {
   "cell_type": "code",
   "execution_count": 33,
   "id": "2ced390a",
   "metadata": {},
   "outputs": [
    {
     "name": "stdout",
     "output_type": "stream",
     "text": [
      "Epoch 1/8\n",
      "1148/1148 - 3s - 2ms/step - accuracy: 0.1424 - loss: 7726.1846\n",
      "Epoch 2/8\n",
      "1148/1148 - 2s - 1ms/step - accuracy: 0.1303 - loss: 83023.2500\n",
      "Epoch 3/8\n",
      "1148/1148 - 1s - 1ms/step - accuracy: 0.1327 - loss: 273312.1875\n",
      "Epoch 4/8\n",
      "1148/1148 - 1s - 1ms/step - accuracy: 0.1246 - loss: 603690.8750\n",
      "Epoch 5/8\n",
      "1148/1148 - 1s - 1ms/step - accuracy: 0.1215 - loss: 1079164.2500\n",
      "Epoch 6/8\n",
      "1148/1148 - 1s - 1ms/step - accuracy: 0.1203 - loss: 1657226.7500\n",
      "Epoch 7/8\n",
      "1148/1148 - 1s - 1ms/step - accuracy: 0.1167 - loss: 2438645.0000\n",
      "Epoch 8/8\n",
      "1148/1148 - 1s - 1ms/step - accuracy: 0.1191 - loss: 3268049.2500\n"
     ]
    },
    {
     "data": {
      "text/plain": [
       "<keras.src.callbacks.history.History at 0x19d0e0d6850>"
      ]
     },
     "execution_count": 33,
     "metadata": {},
     "output_type": "execute_result"
    }
   ],
   "source": [
    "model.fit(X_train, y_train, batch_size=batch_size, epochs=epochs, verbose=2)"
   ]
  },
  {
   "cell_type": "code",
   "execution_count": 34,
   "id": "4303f040",
   "metadata": {},
   "outputs": [],
   "source": [
    "# Create confusion matrix\n",
    "def confusion_matrix(y_true, y_pred):\n",
    "    y_true = pd.Series([stations[y] for y in np.argmax(y_true, axis=1)])\n",
    "    y_pred = pd.Series([stations[y] for y in np.argmax(y_pred, axis=1)])\n",
    "\n",
    "    return pd.crosstab(y_true, y_pred, rownames=['True'], colnames=['Pred'])"
   ]
  },
  {
   "cell_type": "code",
   "execution_count": 35,
   "id": "1e0b7415",
   "metadata": {},
   "outputs": [
    {
     "name": "stdout",
     "output_type": "stream",
     "text": [
      "\u001b[1m144/144\u001b[0m \u001b[32m━━━━━━━━━━━━━━━━━━━━\u001b[0m\u001b[37m\u001b[0m \u001b[1m0s\u001b[0m 1ms/step\n",
      "Pred        BASEL  BELGRADE  BUDAPEST  DEBILT  DUSSELDORF  HEATHROW  KASSEL  \\\n",
      "True                                                                          \n",
      "BASEL           1        77       230      16        1940        36      18   \n",
      "BELGRADE        0        24       136       0         651         0       0   \n",
      "BUDAPEST        0         0        27       0         107         0       0   \n",
      "DEBILT          0         0         4       0          52         0       0   \n",
      "DUSSELDORF      0         0         2       0          24         0       0   \n",
      "HEATHROW        0         0         3       0          64         0       0   \n",
      "KASSEL          0         0         0       0           8         0       0   \n",
      "LJUBLJANA       0         0         4       0          36         0       0   \n",
      "MAASTRICHT      0         0         0       0           3         0       0   \n",
      "MADRID          1         0        15       0         201         0       0   \n",
      "MUNCHENB        0         0         3       0           2         0       0   \n",
      "OSLO            0         0         2       0           5         0       0   \n",
      "STOCKHOLM       0         0         3       0           1         0       0   \n",
      "VALENTIA        0         0         0       0           1         0       0   \n",
      "\n",
      "Pred        LJUBLJANA  MAASTRICHT  MADRID  MUNCHENB  OSLO  STOCKHOLM  VALENTIA  \n",
      "True                                                                            \n",
      "BASEL             259           6     188        21     6        185        11  \n",
      "BELGRADE           40           0      17         0     0          7         0  \n",
      "BUDAPEST            6           0       6         0     0         10         0  \n",
      "DEBILT              0           0       0         0     0          4         0  \n",
      "DUSSELDORF          1           0       0         0     0          1         0  \n",
      "HEATHROW            0           0       6         0     0          5         0  \n",
      "KASSEL              1           0       0         0     0          1         0  \n",
      "LJUBLJANA           4           0       4         0     0          0         0  \n",
      "MAASTRICHT          0           0       0         0     0          0         0  \n",
      "MADRID             17           0      68         0     0         19         0  \n",
      "MUNCHENB            0           0       0         0     0          0         0  \n",
      "OSLO                0           0       0         0     0          0         0  \n",
      "STOCKHOLM           0           0       0         0     0          0         0  \n",
      "VALENTIA            0           0       0         0     0          0         0  \n"
     ]
    }
   ],
   "source": [
    "# Evaluate\n",
    "print(confusion_matrix(y_test, model.predict(X_test)))"
   ]
  },
  {
   "cell_type": "code",
   "execution_count": 41,
   "id": "2197ba8d",
   "metadata": {},
   "outputs": [
    {
     "name": "stderr",
     "output_type": "stream",
     "text": [
      "C:\\Users\\Oksana Stepanova\\anaconda3\\Lib\\site-packages\\keras\\src\\layers\\convolutional\\base_conv.py:107: UserWarning: Do not pass an `input_shape`/`input_dim` argument to a layer. When using Sequential models, prefer using an `Input(shape)` object as the first layer in the model instead.\n",
      "  super().__init__(activity_regularizer=activity_regularizer, **kwargs)\n"
     ]
    }
   ],
   "source": [
    "# Create a Keras leyered model. Change hyperparameters / increase : 30, 32, 64, softmax\n",
    "epochs = 30\n",
    "batch_size = 32\n",
    "n_hidden = 64\n",
    "\n",
    "timesteps = len(X_train[0])\n",
    "input_dim = len(X_train[0][0])\n",
    "n_classes = len(y_train[0])\n",
    "\n",
    "model = Sequential()\n",
    "model.add(Conv1D(n_hidden, kernel_size=2, activation='relu', input_shape=(timesteps, input_dim)))\n",
    "model.add(Dense(16, activation='relu'))\n",
    "model.add(MaxPooling1D())\n",
    "model.add(Flatten())\n",
    "model.add(Dense(n_classes, activation='softmax')) "
   ]
  },
  {
   "cell_type": "code",
   "execution_count": 42,
   "id": "e900cebd",
   "metadata": {},
   "outputs": [],
   "source": [
    "model.compile(loss='categorical_crossentropy', optimizer='adam', metrics=['accuracy'])"
   ]
  },
  {
   "cell_type": "code",
   "execution_count": 43,
   "id": "8cedfdb6",
   "metadata": {},
   "outputs": [
    {
     "name": "stdout",
     "output_type": "stream",
     "text": [
      "Epoch 1/30\n",
      "574/574 - 2s - 3ms/step - accuracy: 0.0933 - loss: 1460.9591\n",
      "Epoch 2/30\n",
      "574/574 - 1s - 1ms/step - accuracy: 0.0968 - loss: 14786.1875\n",
      "Epoch 3/30\n",
      "574/574 - 1s - 2ms/step - accuracy: 0.1020 - loss: 51392.7852\n",
      "Epoch 4/30\n",
      "574/574 - 1s - 1ms/step - accuracy: 0.1136 - loss: 113119.7891\n",
      "Epoch 5/30\n",
      "574/574 - 1s - 1ms/step - accuracy: 0.1214 - loss: 206958.1719\n",
      "Epoch 6/30\n",
      "574/574 - 1s - 1ms/step - accuracy: 0.1206 - loss: 333685.1875\n",
      "Epoch 7/30\n",
      "574/574 - 1s - 1ms/step - accuracy: 0.1230 - loss: 490601.7500\n",
      "Epoch 8/30\n",
      "574/574 - 1s - 2ms/step - accuracy: 0.1285 - loss: 673662.6875\n",
      "Epoch 9/30\n",
      "574/574 - 1s - 2ms/step - accuracy: 0.1295 - loss: 902246.0625\n",
      "Epoch 10/30\n",
      "574/574 - 1s - 1ms/step - accuracy: 0.1298 - loss: 1181525.1250\n",
      "Epoch 11/30\n",
      "574/574 - 1s - 1ms/step - accuracy: 0.1347 - loss: 1481285.8750\n",
      "Epoch 12/30\n",
      "574/574 - 1s - 2ms/step - accuracy: 0.1343 - loss: 1834100.3750\n",
      "Epoch 13/30\n",
      "574/574 - 1s - 1ms/step - accuracy: 0.1341 - loss: 2262974.2500\n",
      "Epoch 14/30\n",
      "574/574 - 1s - 2ms/step - accuracy: 0.1348 - loss: 2697068.2500\n",
      "Epoch 15/30\n",
      "574/574 - 1s - 2ms/step - accuracy: 0.1361 - loss: 3191106.2500\n",
      "Epoch 16/30\n",
      "574/574 - 1s - 2ms/step - accuracy: 0.1308 - loss: 3722181.0000\n",
      "Epoch 17/30\n",
      "574/574 - 1s - 1ms/step - accuracy: 0.1327 - loss: 4320423.0000\n",
      "Epoch 18/30\n",
      "574/574 - 1s - 2ms/step - accuracy: 0.1345 - loss: 4979981.0000\n",
      "Epoch 19/30\n",
      "574/574 - 1s - 1ms/step - accuracy: 0.1338 - loss: 5661211.5000\n",
      "Epoch 20/30\n",
      "574/574 - 1s - 1ms/step - accuracy: 0.1343 - loss: 6432843.5000\n",
      "Epoch 21/30\n",
      "574/574 - 1s - 2ms/step - accuracy: 0.1336 - loss: 7209756.5000\n",
      "Epoch 22/30\n",
      "574/574 - 1s - 1ms/step - accuracy: 0.1339 - loss: 8047659.5000\n",
      "Epoch 23/30\n",
      "574/574 - 1s - 1ms/step - accuracy: 0.1286 - loss: 9008726.0000\n",
      "Epoch 24/30\n",
      "574/574 - 1s - 1ms/step - accuracy: 0.1331 - loss: 9981997.0000\n",
      "Epoch 25/30\n",
      "574/574 - 1s - 1ms/step - accuracy: 0.1294 - loss: 10995153.0000\n",
      "Epoch 26/30\n",
      "574/574 - 1s - 1ms/step - accuracy: 0.1331 - loss: 12115319.0000\n",
      "Epoch 27/30\n",
      "574/574 - 1s - 2ms/step - accuracy: 0.1303 - loss: 13256668.0000\n",
      "Epoch 28/30\n",
      "574/574 - 1s - 2ms/step - accuracy: 0.1320 - loss: 14523114.0000\n",
      "Epoch 29/30\n",
      "574/574 - 1s - 1ms/step - accuracy: 0.1323 - loss: 15741442.0000\n",
      "Epoch 30/30\n",
      "574/574 - 1s - 2ms/step - accuracy: 0.1316 - loss: 17104664.0000\n"
     ]
    },
    {
     "data": {
      "text/plain": [
       "<keras.src.callbacks.history.History at 0x19d0e0e4cd0>"
      ]
     },
     "execution_count": 43,
     "metadata": {},
     "output_type": "execute_result"
    }
   ],
   "source": [
    "model.fit(X_train, y_train, batch_size=batch_size, epochs=epochs, verbose=2)"
   ]
  },
  {
   "cell_type": "code",
   "execution_count": 44,
   "id": "2d617cc2",
   "metadata": {},
   "outputs": [],
   "source": [
    "# Create a confusion matrix\n",
    "def confusion_matrix(y_true, y_pred):\n",
    "    y_true = pd.Series([stations[y] for y in np.argmax(y_true, axis=1)])\n",
    "    y_pred = pd.Series([stations[y] for y in np.argmax(y_pred, axis=1)])\n",
    "\n",
    "    return pd.crosstab(y_true, y_pred, rownames=['True'], colnames=['Pred'])"
   ]
  },
  {
   "cell_type": "code",
   "execution_count": 45,
   "id": "45d8e39c",
   "metadata": {},
   "outputs": [
    {
     "name": "stdout",
     "output_type": "stream",
     "text": [
      "\u001b[1m144/144\u001b[0m \u001b[32m━━━━━━━━━━━━━━━━━━━━\u001b[0m\u001b[37m\u001b[0m \u001b[1m0s\u001b[0m 1ms/step\n",
      "Pred        BASEL  BELGRADE  BUDAPEST  DEBILT  HEATHROW  KASSEL  LJUBLJANA  \\\n",
      "True                                                                         \n",
      "BASEL           8       390       406     479       183      65         99   \n",
      "BELGRADE        0       194       176     123        18       7          4   \n",
      "BUDAPEST        0        23        29      28         2       2          1   \n",
      "DEBILT          0         9         5      20         4       1          0   \n",
      "DUSSELDORF      0         0         4       8         2       1          0   \n",
      "HEATHROW        0         2         9       7         7       1          0   \n",
      "KASSEL          0         1         2       2         0       0          1   \n",
      "LJUBLJANA       0         2        14       2         0       0          0   \n",
      "MAASTRICHT      0         0         1       0         0       0          0   \n",
      "MADRID          0        23        37      20        19       0          5   \n",
      "MUNCHENB        0         2         1       0         0       0          0   \n",
      "OSLO            0         1         1       0         0       0          0   \n",
      "STOCKHOLM       0         1         1       0         0       0          0   \n",
      "VALENTIA        0         0         0       0         0       0          0   \n",
      "\n",
      "Pred        MAASTRICHT  MADRID  MUNCHENB  OSLO  SONNBLICK  STOCKHOLM  VALENTIA  \n",
      "True                                                                            \n",
      "BASEL               77     952       137   124         12         30        32  \n",
      "BELGRADE            19     255        51    27          0          1         0  \n",
      "BUDAPEST             1      45        11    13          0          1         0  \n",
      "DEBILT               2       6        10     3          0          0         0  \n",
      "DUSSELDORF           1       9         1     2          0          0         0  \n",
      "HEATHROW             3      40         1     6          0          2         0  \n",
      "KASSEL               1       1         1     1          0          0         0  \n",
      "LJUBLJANA            1      26         2     1          0          0         0  \n",
      "MAASTRICHT           0       1         1     0          0          0         0  \n",
      "MADRID               2     191         7    14          0          3         0  \n",
      "MUNCHENB             0       1         0     1          0          0         0  \n",
      "OSLO                 0       5         0     0          0          0         0  \n",
      "STOCKHOLM            0       0         0     2          0          0         0  \n",
      "VALENTIA             0       1         0     0          0          0         0  \n"
     ]
    }
   ],
   "source": [
    "# Evaluate\n",
    "print(confusion_matrix(y_test, model.predict(X_test)))"
   ]
  },
  {
   "cell_type": "code",
   "execution_count": 46,
   "id": "ab3c12a3",
   "metadata": {},
   "outputs": [
    {
     "name": "stderr",
     "output_type": "stream",
     "text": [
      "C:\\Users\\Oksana Stepanova\\anaconda3\\Lib\\site-packages\\keras\\src\\layers\\convolutional\\base_conv.py:107: UserWarning: Do not pass an `input_shape`/`input_dim` argument to a layer. When using Sequential models, prefer using an `Input(shape)` object as the first layer in the model instead.\n",
      "  super().__init__(activity_regularizer=activity_regularizer, **kwargs)\n"
     ]
    }
   ],
   "source": [
    "# Create a Keras leyered model. Change hyperparameters / increase the number of layers : 30, 32, 128, softmax\n",
    "epochs = 30\n",
    "batch_size = 32\n",
    "n_hidden = 128\n",
    "\n",
    "timesteps = len(X_train[0])\n",
    "input_dim = len(X_train[0][0])\n",
    "n_classes = len(y_train[0])\n",
    "\n",
    "model = Sequential()\n",
    "model.add(Conv1D(n_hidden, kernel_size=2, activation='relu', input_shape=(timesteps, input_dim)))\n",
    "model.add(Dense(16, activation='relu'))\n",
    "model.add(MaxPooling1D())\n",
    "model.add(Flatten())\n",
    "model.add(Dense(n_classes, activation='softmax')) "
   ]
  },
  {
   "cell_type": "code",
   "execution_count": 47,
   "id": "b8c05eb8",
   "metadata": {},
   "outputs": [],
   "source": [
    "model.compile(loss='categorical_crossentropy', optimizer='adam', metrics=['accuracy'])"
   ]
  },
  {
   "cell_type": "code",
   "execution_count": 48,
   "id": "00628771",
   "metadata": {},
   "outputs": [
    {
     "name": "stdout",
     "output_type": "stream",
     "text": [
      "Epoch 1/30\n",
      "574/574 - 2s - 3ms/step - accuracy: 0.1095 - loss: 3231.3147\n",
      "Epoch 2/30\n",
      "574/574 - 1s - 2ms/step - accuracy: 0.1191 - loss: 32845.9883\n",
      "Epoch 3/30\n",
      "574/574 - 1s - 2ms/step - accuracy: 0.1186 - loss: 115626.8281\n",
      "Epoch 4/30\n",
      "574/574 - 1s - 2ms/step - accuracy: 0.1175 - loss: 270658.8750\n",
      "Epoch 5/30\n",
      "574/574 - 1s - 2ms/step - accuracy: 0.1237 - loss: 478946.9375\n",
      "Epoch 6/30\n",
      "574/574 - 1s - 2ms/step - accuracy: 0.1227 - loss: 788746.4375\n",
      "Epoch 7/30\n",
      "574/574 - 1s - 2ms/step - accuracy: 0.1245 - loss: 1206278.7500\n",
      "Epoch 8/30\n",
      "574/574 - 1s - 2ms/step - accuracy: 0.1282 - loss: 1706223.8750\n",
      "Epoch 9/30\n",
      "574/574 - 1s - 2ms/step - accuracy: 0.1306 - loss: 2240229.5000\n",
      "Epoch 10/30\n",
      "574/574 - 1s - 2ms/step - accuracy: 0.1244 - loss: 2924169.5000\n",
      "Epoch 11/30\n",
      "574/574 - 1s - 2ms/step - accuracy: 0.1309 - loss: 3672033.0000\n",
      "Epoch 12/30\n",
      "574/574 - 1s - 2ms/step - accuracy: 0.1297 - loss: 4619709.5000\n",
      "Epoch 13/30\n",
      "574/574 - 1s - 2ms/step - accuracy: 0.1288 - loss: 5632687.0000\n",
      "Epoch 14/30\n",
      "574/574 - 1s - 2ms/step - accuracy: 0.1272 - loss: 6721692.0000\n",
      "Epoch 15/30\n",
      "574/574 - 1s - 2ms/step - accuracy: 0.1291 - loss: 8035715.0000\n",
      "Epoch 16/30\n",
      "574/574 - 1s - 2ms/step - accuracy: 0.1269 - loss: 9428147.0000\n",
      "Epoch 17/30\n",
      "574/574 - 1s - 2ms/step - accuracy: 0.1257 - loss: 10883695.0000\n",
      "Epoch 18/30\n",
      "574/574 - 1s - 2ms/step - accuracy: 0.1241 - loss: 12606796.0000\n",
      "Epoch 19/30\n",
      "574/574 - 1s - 2ms/step - accuracy: 0.1232 - loss: 14432002.0000\n",
      "Epoch 20/30\n",
      "574/574 - 1s - 2ms/step - accuracy: 0.1229 - loss: 16208884.0000\n",
      "Epoch 21/30\n",
      "574/574 - 1s - 2ms/step - accuracy: 0.1223 - loss: 18350270.0000\n",
      "Epoch 22/30\n",
      "574/574 - 1s - 2ms/step - accuracy: 0.1214 - loss: 20486288.0000\n",
      "Epoch 23/30\n",
      "574/574 - 1s - 2ms/step - accuracy: 0.1209 - loss: 22891384.0000\n",
      "Epoch 24/30\n",
      "574/574 - 1s - 2ms/step - accuracy: 0.1210 - loss: 25246932.0000\n",
      "Epoch 25/30\n",
      "574/574 - 1s - 2ms/step - accuracy: 0.1179 - loss: 27837842.0000\n",
      "Epoch 26/30\n",
      "574/574 - 1s - 2ms/step - accuracy: 0.1184 - loss: 30745882.0000\n",
      "Epoch 27/30\n",
      "574/574 - 1s - 2ms/step - accuracy: 0.1213 - loss: 33440394.0000\n",
      "Epoch 28/30\n",
      "574/574 - 1s - 2ms/step - accuracy: 0.1144 - loss: 36715212.0000\n",
      "Epoch 29/30\n",
      "574/574 - 1s - 2ms/step - accuracy: 0.1210 - loss: 40265756.0000\n",
      "Epoch 30/30\n",
      "574/574 - 1s - 2ms/step - accuracy: 0.1165 - loss: 43386148.0000\n"
     ]
    },
    {
     "data": {
      "text/plain": [
       "<keras.src.callbacks.history.History at 0x19d1500c6d0>"
      ]
     },
     "execution_count": 48,
     "metadata": {},
     "output_type": "execute_result"
    }
   ],
   "source": [
    "model.fit(X_train, y_train, batch_size=batch_size, epochs=epochs, verbose=2)"
   ]
  },
  {
   "cell_type": "code",
   "execution_count": 49,
   "id": "8c424286",
   "metadata": {},
   "outputs": [],
   "source": [
    "# Create a confusion matrix\n",
    "def confusion_matrix(y_true, y_pred):\n",
    "    y_true = pd.Series([stations[y] for y in np.argmax(y_true, axis=1)])\n",
    "    y_pred = pd.Series([stations[y] for y in np.argmax(y_pred, axis=1)])\n",
    "\n",
    "    return pd.crosstab(y_true, y_pred, rownames=['True'], colnames=['Pred'])"
   ]
  },
  {
   "cell_type": "code",
   "execution_count": 50,
   "id": "0916c7c1",
   "metadata": {},
   "outputs": [
    {
     "name": "stdout",
     "output_type": "stream",
     "text": [
      "\u001b[1m144/144\u001b[0m \u001b[32m━━━━━━━━━━━━━━━━━━━━\u001b[0m\u001b[37m\u001b[0m \u001b[1m0s\u001b[0m 1ms/step\n",
      "Pred        BASEL  BELGRADE  BUDAPEST  DEBILT  DUSSELDORF  HEATHROW  KASSEL  \\\n",
      "True                                                                          \n",
      "BASEL          33        34       444      29         234       386     179   \n",
      "BELGRADE        0         1       245       5           2       170      26   \n",
      "BUDAPEST        0         0        22       2           0        30       5   \n",
      "DEBILT          0         0         8       0           0        22       3   \n",
      "DUSSELDORF      0         0         1       1           0        10       2   \n",
      "HEATHROW        0         0         3       2           0        14      10   \n",
      "KASSEL          0         0         1       0           0         2       0   \n",
      "LJUBLJANA       0         0         8       0           0        10       2   \n",
      "MAASTRICHT      0         0         1       0           0         0       0   \n",
      "MADRID          0         0        32       7          10        58      18   \n",
      "MUNCHENB        0         0         3       0           0         0       0   \n",
      "OSLO            0         0         2       0           0         1       0   \n",
      "STOCKHOLM       0         0         2       0           0         1       0   \n",
      "VALENTIA        0         0         0       0           0         1       0   \n",
      "\n",
      "Pred        LJUBLJANA  MAASTRICHT  MADRID  MUNCHENB  OSLO  SONNBLICK  \\\n",
      "True                                                                   \n",
      "BASEL              73         166     837       189   333          7   \n",
      "BELGRADE            0          30     276         5   115          0   \n",
      "BUDAPEST            0           6      47         0    44          0   \n",
      "DEBILT              0           1       8         0    18          0   \n",
      "DUSSELDORF          0           2       2         0    10          0   \n",
      "HEATHROW            0           1      28         0    20          0   \n",
      "KASSEL              0           0       4         0     3          0   \n",
      "LJUBLJANA           0           1      25         0     2          0   \n",
      "MAASTRICHT          0           1       1         0     0          0   \n",
      "MADRID              0           8     132         2    52          0   \n",
      "MUNCHENB            0           0       2         0     0          0   \n",
      "OSLO                0           0       1         0     3          0   \n",
      "STOCKHOLM           0           0       0         0     1          0   \n",
      "VALENTIA            0           0       0         0     0          0   \n",
      "\n",
      "Pred        STOCKHOLM  VALENTIA  \n",
      "True                             \n",
      "BASEL              20        30  \n",
      "BELGRADE            0         0  \n",
      "BUDAPEST            0         0  \n",
      "DEBILT              0         0  \n",
      "DUSSELDORF          0         0  \n",
      "HEATHROW            0         0  \n",
      "KASSEL              0         0  \n",
      "LJUBLJANA           0         0  \n",
      "MAASTRICHT          0         0  \n",
      "MADRID              2         0  \n",
      "MUNCHENB            0         0  \n",
      "OSLO                0         0  \n",
      "STOCKHOLM           0         0  \n",
      "VALENTIA            0         0  \n"
     ]
    }
   ],
   "source": [
    "# Evaluate\n",
    "print(confusion_matrix(y_test, model.predict(X_test)))"
   ]
  },
  {
   "cell_type": "code",
   "execution_count": 51,
   "id": "462261b6",
   "metadata": {},
   "outputs": [
    {
     "name": "stderr",
     "output_type": "stream",
     "text": [
      "C:\\Users\\Oksana Stepanova\\anaconda3\\Lib\\site-packages\\keras\\src\\layers\\convolutional\\base_conv.py:107: UserWarning: Do not pass an `input_shape`/`input_dim` argument to a layer. When using Sequential models, prefer using an `Input(shape)` object as the first layer in the model instead.\n",
      "  super().__init__(activity_regularizer=activity_regularizer, **kwargs)\n"
     ]
    }
   ],
   "source": [
    "# Create a Keras leyered model. Change activation type : 30, 32, 128, sigmoid\n",
    "epochs = 30\n",
    "batch_size = 32\n",
    "n_hidden = 128\n",
    "\n",
    "timesteps = len(X_train[0])\n",
    "input_dim = len(X_train[0][0])\n",
    "n_classes = len(y_train[0])\n",
    "\n",
    "model = Sequential()\n",
    "model.add(Conv1D(n_hidden, kernel_size=2, activation='relu', input_shape=(timesteps, input_dim)))\n",
    "model.add(Dense(16, activation='relu'))\n",
    "model.add(MaxPooling1D())\n",
    "model.add(Flatten())\n",
    "model.add(Dense(n_classes, activation='sigmoid')) "
   ]
  },
  {
   "cell_type": "code",
   "execution_count": 52,
   "id": "4806fab3",
   "metadata": {},
   "outputs": [],
   "source": [
    "model.compile(loss='categorical_crossentropy', optimizer='adam', metrics=['accuracy'])"
   ]
  },
  {
   "cell_type": "code",
   "execution_count": 53,
   "id": "cd947df1",
   "metadata": {},
   "outputs": [
    {
     "name": "stdout",
     "output_type": "stream",
     "text": [
      "Epoch 1/30\n",
      "574/574 - 2s - 3ms/step - accuracy: 0.1008 - loss: 3922.1772\n",
      "Epoch 2/30\n",
      "574/574 - 1s - 2ms/step - accuracy: 0.1020 - loss: 39431.0742\n",
      "Epoch 3/30\n",
      "574/574 - 1s - 2ms/step - accuracy: 0.1114 - loss: 127885.5391\n",
      "Epoch 4/30\n",
      "574/574 - 1s - 2ms/step - accuracy: 0.1065 - loss: 280454.8750\n",
      "Epoch 5/30\n",
      "574/574 - 1s - 2ms/step - accuracy: 0.1149 - loss: 532916.5625\n",
      "Epoch 6/30\n",
      "574/574 - 1s - 2ms/step - accuracy: 0.1130 - loss: 881278.6250\n",
      "Epoch 7/30\n",
      "574/574 - 1s - 2ms/step - accuracy: 0.1178 - loss: 1272417.6250\n",
      "Epoch 8/30\n",
      "574/574 - 1s - 2ms/step - accuracy: 0.1198 - loss: 1786185.1250\n",
      "Epoch 9/30\n",
      "574/574 - 1s - 2ms/step - accuracy: 0.1214 - loss: 2356560.2500\n",
      "Epoch 10/30\n",
      "574/574 - 1s - 2ms/step - accuracy: 0.1278 - loss: 3125181.2500\n",
      "Epoch 11/30\n",
      "574/574 - 1s - 2ms/step - accuracy: 0.1268 - loss: 3901566.7500\n",
      "Epoch 12/30\n",
      "574/574 - 1s - 2ms/step - accuracy: 0.1237 - loss: 4891773.5000\n",
      "Epoch 13/30\n",
      "574/574 - 1s - 2ms/step - accuracy: 0.1235 - loss: 5784862.5000\n",
      "Epoch 14/30\n",
      "574/574 - 1s - 2ms/step - accuracy: 0.1247 - loss: 6971892.5000\n",
      "Epoch 15/30\n",
      "574/574 - 1s - 2ms/step - accuracy: 0.1212 - loss: 8097687.5000\n",
      "Epoch 16/30\n",
      "574/574 - 1s - 2ms/step - accuracy: 0.1202 - loss: 9617968.0000\n",
      "Epoch 17/30\n",
      "574/574 - 1s - 2ms/step - accuracy: 0.1233 - loss: 10849297.0000\n",
      "Epoch 18/30\n",
      "574/574 - 1s - 2ms/step - accuracy: 0.1208 - loss: 12512173.0000\n",
      "Epoch 19/30\n",
      "574/574 - 1s - 2ms/step - accuracy: 0.1237 - loss: 14236953.0000\n",
      "Epoch 20/30\n",
      "574/574 - 1s - 2ms/step - accuracy: 0.1228 - loss: 16033215.0000\n",
      "Epoch 21/30\n",
      "574/574 - 1s - 2ms/step - accuracy: 0.1264 - loss: 17855868.0000\n",
      "Epoch 22/30\n",
      "574/574 - 1s - 2ms/step - accuracy: 0.1237 - loss: 20040956.0000\n",
      "Epoch 23/30\n",
      "574/574 - 1s - 2ms/step - accuracy: 0.1207 - loss: 22235436.0000\n",
      "Epoch 24/30\n",
      "574/574 - 1s - 2ms/step - accuracy: 0.1192 - loss: 24416722.0000\n",
      "Epoch 25/30\n",
      "574/574 - 1s - 2ms/step - accuracy: 0.1194 - loss: 27072694.0000\n",
      "Epoch 26/30\n",
      "574/574 - 1s - 2ms/step - accuracy: 0.1218 - loss: 29821150.0000\n",
      "Epoch 27/30\n",
      "574/574 - 1s - 2ms/step - accuracy: 0.1214 - loss: 32532928.0000\n",
      "Epoch 28/30\n",
      "574/574 - 1s - 2ms/step - accuracy: 0.1236 - loss: 35643440.0000\n",
      "Epoch 29/30\n",
      "574/574 - 1s - 2ms/step - accuracy: 0.1223 - loss: 38539696.0000\n",
      "Epoch 30/30\n",
      "574/574 - 1s - 2ms/step - accuracy: 0.1252 - loss: 42099816.0000\n"
     ]
    },
    {
     "data": {
      "text/plain": [
       "<keras.src.callbacks.history.History at 0x19d150546d0>"
      ]
     },
     "execution_count": 53,
     "metadata": {},
     "output_type": "execute_result"
    }
   ],
   "source": [
    "model.fit(X_train, y_train, batch_size=batch_size, epochs=epochs, verbose=2)"
   ]
  },
  {
   "cell_type": "code",
   "execution_count": 54,
   "id": "350ed95b",
   "metadata": {},
   "outputs": [],
   "source": [
    "# Create a confusion matrix\n",
    "def confusion_matrix(y_true, y_pred):\n",
    "    y_true = pd.Series([stations[y] for y in np.argmax(y_true, axis=1)])\n",
    "    y_pred = pd.Series([stations[y] for y in np.argmax(y_pred, axis=1)])\n",
    "\n",
    "    return pd.crosstab(y_true, y_pred, rownames=['True'], colnames=['Pred'])"
   ]
  },
  {
   "cell_type": "code",
   "execution_count": 55,
   "id": "7d392a80",
   "metadata": {},
   "outputs": [
    {
     "name": "stdout",
     "output_type": "stream",
     "text": [
      "\u001b[1m144/144\u001b[0m \u001b[32m━━━━━━━━━━━━━━━━━━━━\u001b[0m\u001b[37m\u001b[0m \u001b[1m0s\u001b[0m 1ms/step\n",
      "Pred        BASEL  VALENTIA\n",
      "True                       \n",
      "BASEL        2991         3\n",
      "BELGRADE      875         0\n",
      "BUDAPEST      156         0\n",
      "DEBILT         60         0\n",
      "DUSSELDORF     28         0\n",
      "HEATHROW       78         0\n",
      "KASSEL         10         0\n",
      "LJUBLJANA      48         0\n",
      "MAASTRICHT      3         0\n",
      "MADRID        321         0\n",
      "MUNCHENB        5         0\n",
      "OSLO            7         0\n",
      "STOCKHOLM       4         0\n",
      "VALENTIA        1         0\n"
     ]
    }
   ],
   "source": [
    "# Evaluate\n",
    "print(confusion_matrix(y_test, model.predict(X_test)))"
   ]
  },
  {
   "cell_type": "code",
   "execution_count": 56,
   "id": "2c37063a",
   "metadata": {},
   "outputs": [
    {
     "name": "stderr",
     "output_type": "stream",
     "text": [
      "C:\\Users\\Oksana Stepanova\\anaconda3\\Lib\\site-packages\\keras\\src\\layers\\convolutional\\base_conv.py:107: UserWarning: Do not pass an `input_shape`/`input_dim` argument to a layer. When using Sequential models, prefer using an `Input(shape)` object as the first layer in the model instead.\n",
      "  super().__init__(activity_regularizer=activity_regularizer, **kwargs)\n"
     ]
    }
   ],
   "source": [
    "# Create a Keras leyered model. Change activation type : 30, 32, 128, tanh\n",
    "epochs = 30\n",
    "batch_size = 32\n",
    "n_hidden = 128\n",
    "\n",
    "timesteps = len(X_train[0])\n",
    "input_dim = len(X_train[0][0])\n",
    "n_classes = len(y_train[0])\n",
    "\n",
    "model = Sequential()\n",
    "model.add(Conv1D(n_hidden, kernel_size=2, activation='relu', input_shape=(timesteps, input_dim)))\n",
    "model.add(Dense(16, activation='relu'))\n",
    "model.add(MaxPooling1D())\n",
    "model.add(Flatten())\n",
    "model.add(Dense(n_classes, activation='tanh')) "
   ]
  },
  {
   "cell_type": "code",
   "execution_count": 57,
   "id": "25700add",
   "metadata": {},
   "outputs": [],
   "source": [
    "model.compile(loss='categorical_crossentropy', optimizer='adam', metrics=['accuracy'])"
   ]
  },
  {
   "cell_type": "code",
   "execution_count": 58,
   "id": "c594dd98",
   "metadata": {},
   "outputs": [
    {
     "name": "stdout",
     "output_type": "stream",
     "text": [
      "Epoch 1/30\n",
      "574/574 - 2s - 3ms/step - accuracy: 0.0756 - loss: 24.4619\n",
      "Epoch 2/30\n",
      "574/574 - 1s - 2ms/step - accuracy: 0.1210 - loss: 25.2719\n",
      "Epoch 3/30\n",
      "574/574 - 1s - 2ms/step - accuracy: 0.1239 - loss: 25.2736\n",
      "Epoch 4/30\n",
      "574/574 - 1s - 2ms/step - accuracy: 0.1240 - loss: 25.2736\n",
      "Epoch 5/30\n",
      "574/574 - 1s - 2ms/step - accuracy: 0.1241 - loss: 25.2754\n",
      "Epoch 6/30\n",
      "574/574 - 1s - 2ms/step - accuracy: 0.1242 - loss: 25.2754\n",
      "Epoch 7/30\n",
      "574/574 - 1s - 2ms/step - accuracy: 0.1243 - loss: 25.2754\n",
      "Epoch 8/30\n",
      "574/574 - 1s - 2ms/step - accuracy: 0.1245 - loss: 25.2754\n",
      "Epoch 9/30\n",
      "574/574 - 1s - 2ms/step - accuracy: 0.1246 - loss: 25.2763\n",
      "Epoch 10/30\n",
      "574/574 - 1s - 2ms/step - accuracy: 0.1246 - loss: 25.2772\n",
      "Epoch 11/30\n",
      "574/574 - 1s - 2ms/step - accuracy: 0.1247 - loss: 25.2771\n",
      "Epoch 12/30\n",
      "574/574 - 1s - 2ms/step - accuracy: 0.1248 - loss: 25.2771\n",
      "Epoch 13/30\n",
      "574/574 - 1s - 2ms/step - accuracy: 0.1249 - loss: 25.2771\n",
      "Epoch 14/30\n",
      "574/574 - 1s - 2ms/step - accuracy: 0.1252 - loss: 25.2798\n",
      "Epoch 15/30\n",
      "574/574 - 1s - 2ms/step - accuracy: 0.1252 - loss: 25.2798\n",
      "Epoch 16/30\n",
      "574/574 - 1s - 2ms/step - accuracy: 0.1254 - loss: 25.2842\n",
      "Epoch 17/30\n",
      "574/574 - 1s - 2ms/step - accuracy: 0.1254 - loss: 25.2842\n",
      "Epoch 18/30\n",
      "574/574 - 1s - 2ms/step - accuracy: 0.1254 - loss: 25.2842\n",
      "Epoch 19/30\n",
      "574/574 - 1s - 2ms/step - accuracy: 0.1254 - loss: 25.2842\n",
      "Epoch 20/30\n",
      "574/574 - 1s - 2ms/step - accuracy: 0.1254 - loss: 25.2842\n",
      "Epoch 21/30\n",
      "574/574 - 1s - 2ms/step - accuracy: 0.1254 - loss: 25.2842\n",
      "Epoch 22/30\n",
      "574/574 - 1s - 2ms/step - accuracy: 0.1254 - loss: 25.2842\n",
      "Epoch 23/30\n",
      "574/574 - 1s - 2ms/step - accuracy: 0.1254 - loss: 25.2842\n",
      "Epoch 24/30\n",
      "574/574 - 1s - 2ms/step - accuracy: 0.1254 - loss: 25.2842\n",
      "Epoch 25/30\n",
      "574/574 - 1s - 2ms/step - accuracy: 0.1254 - loss: 25.2842\n",
      "Epoch 26/30\n",
      "574/574 - 1s - 2ms/step - accuracy: 0.1254 - loss: 25.2842\n",
      "Epoch 27/30\n",
      "574/574 - 1s - 2ms/step - accuracy: 0.1254 - loss: 25.2842\n",
      "Epoch 28/30\n",
      "574/574 - 1s - 2ms/step - accuracy: 0.1254 - loss: 25.2842\n",
      "Epoch 29/30\n",
      "574/574 - 1s - 2ms/step - accuracy: 0.1254 - loss: 25.2842\n",
      "Epoch 30/30\n",
      "574/574 - 1s - 2ms/step - accuracy: 0.1254 - loss: 25.2842\n"
     ]
    },
    {
     "data": {
      "text/plain": [
       "<keras.src.callbacks.history.History at 0x19d199b8990>"
      ]
     },
     "execution_count": 58,
     "metadata": {},
     "output_type": "execute_result"
    }
   ],
   "source": [
    "model.fit(X_train, y_train, batch_size=batch_size, epochs=epochs, verbose=2)"
   ]
  },
  {
   "cell_type": "code",
   "execution_count": 59,
   "id": "586bc5ab",
   "metadata": {},
   "outputs": [],
   "source": [
    "# Create a confusion matrix\n",
    "def confusion_matrix(y_true, y_pred):\n",
    "    y_true = pd.Series([stations[y] for y in np.argmax(y_true, axis=1)])\n",
    "    y_pred = pd.Series([stations[y] for y in np.argmax(y_pred, axis=1)])\n",
    "\n",
    "    return pd.crosstab(y_true, y_pred, rownames=['True'], colnames=['Pred'])"
   ]
  },
  {
   "cell_type": "code",
   "execution_count": 60,
   "id": "ad12ccb7",
   "metadata": {},
   "outputs": [
    {
     "name": "stdout",
     "output_type": "stream",
     "text": [
      "\u001b[1m144/144\u001b[0m \u001b[32m━━━━━━━━━━━━━━━━━━━━\u001b[0m\u001b[37m\u001b[0m \u001b[1m0s\u001b[0m 1ms/step\n",
      "Pred        BELGRADE  BUDAPEST  DEBILT  DUSSELDORF  HEATHROW  LJUBLJANA  \\\n",
      "True                                                                      \n",
      "BASEL            705      1755     183          13         1         23   \n",
      "BELGRADE         466       402       6           0         0          0   \n",
      "BUDAPEST          70        86       0           0         0          0   \n",
      "DEBILT            39        21       0           0         0          0   \n",
      "DUSSELDORF         4        24       0           0         0          0   \n",
      "HEATHROW          13        65       0           0         0          0   \n",
      "KASSEL             5         5       0           0         0          0   \n",
      "LJUBLJANA          4        44       0           0         0          0   \n",
      "MAASTRICHT         0         3       0           0         0          0   \n",
      "MADRID            31       261      27           0         0          2   \n",
      "MUNCHENB           1         4       0           0         0          0   \n",
      "OSLO               3         4       0           0         0          0   \n",
      "STOCKHOLM          1         3       0           0         0          0   \n",
      "VALENTIA           0         1       0           0         0          0   \n",
      "\n",
      "Pred        SONNBLICK  \n",
      "True                   \n",
      "BASEL             314  \n",
      "BELGRADE            1  \n",
      "BUDAPEST            0  \n",
      "DEBILT              0  \n",
      "DUSSELDORF          0  \n",
      "HEATHROW            0  \n",
      "KASSEL              0  \n",
      "LJUBLJANA           0  \n",
      "MAASTRICHT          0  \n",
      "MADRID              0  \n",
      "MUNCHENB            0  \n",
      "OSLO                0  \n",
      "STOCKHOLM           0  \n",
      "VALENTIA            0  \n"
     ]
    }
   ],
   "source": [
    "# Evaluate\n",
    "print(confusion_matrix(y_test, model.predict(X_test)))"
   ]
  },
  {
   "cell_type": "markdown",
   "id": "c792f914",
   "metadata": {},
   "source": [
    "## 4. Creating RNN (Recurrent Neural Network) model"
   ]
  },
  {
   "cell_type": "code",
   "execution_count": 61,
   "id": "545719b1",
   "metadata": {},
   "outputs": [
    {
     "name": "stderr",
     "output_type": "stream",
     "text": [
      "C:\\Users\\Oksana Stepanova\\anaconda3\\Lib\\site-packages\\keras\\src\\layers\\rnn\\rnn.py:204: UserWarning: Do not pass an `input_shape`/`input_dim` argument to a layer. When using Sequential models, prefer using an `Input(shape)` object as the first layer in the model instead.\n",
      "  super().__init__(**kwargs)\n"
     ]
    }
   ],
   "source": [
    "# Create a Keras leyered model. Use initial hyperparameters: 8, 16, 32, softmax\n",
    "epochs = 8\n",
    "batch_size = 16\n",
    "n_hidden = 32\n",
    "\n",
    "timesteps = len(X_train[0])\n",
    "input_dim = len(X_train[0][0])\n",
    "n_classes = len(y_train[0])\n",
    "\n",
    "model = Sequential()\n",
    "model.add(LSTM(n_hidden, input_shape=(timesteps, input_dim)))\n",
    "model.add(Dropout(0.5))\n",
    "model.add(Dense(n_classes, activation='softmax')) #Don't use relu here!"
   ]
  },
  {
   "cell_type": "code",
   "execution_count": 62,
   "id": "f9050fac",
   "metadata": {},
   "outputs": [],
   "source": [
    "model.compile(loss='categorical_crossentropy',\n",
    "              optimizer='rmsprop',\n",
    "              metrics=['accuracy'])"
   ]
  },
  {
   "cell_type": "code",
   "execution_count": 63,
   "id": "a5437e22",
   "metadata": {},
   "outputs": [
    {
     "name": "stdout",
     "output_type": "stream",
     "text": [
      "Epoch 1/8\n",
      "\u001b[1m1148/1148\u001b[0m \u001b[32m━━━━━━━━━━━━━━━━━━━━\u001b[0m\u001b[37m\u001b[0m \u001b[1m6s\u001b[0m 4ms/step - accuracy: 0.0808 - loss: 10.3405 - val_accuracy: 0.0272 - val_loss: 9.6793\n",
      "Epoch 2/8\n",
      "\u001b[1m1148/1148\u001b[0m \u001b[32m━━━━━━━━━━━━━━━━━━━━\u001b[0m\u001b[37m\u001b[0m \u001b[1m4s\u001b[0m 3ms/step - accuracy: 0.0942 - loss: 10.9185 - val_accuracy: 0.0344 - val_loss: 10.0977\n",
      "Epoch 3/8\n",
      "\u001b[1m1148/1148\u001b[0m \u001b[32m━━━━━━━━━━━━━━━━━━━━\u001b[0m\u001b[37m\u001b[0m \u001b[1m4s\u001b[0m 3ms/step - accuracy: 0.0935 - loss: 11.2613 - val_accuracy: 0.0296 - val_loss: 10.9721\n",
      "Epoch 4/8\n",
      "\u001b[1m1148/1148\u001b[0m \u001b[32m━━━━━━━━━━━━━━━━━━━━\u001b[0m\u001b[37m\u001b[0m \u001b[1m4s\u001b[0m 4ms/step - accuracy: 0.0896 - loss: 11.5663 - val_accuracy: 0.0320 - val_loss: 11.5935\n",
      "Epoch 5/8\n",
      "\u001b[1m1148/1148\u001b[0m \u001b[32m━━━━━━━━━━━━━━━━━━━━\u001b[0m\u001b[37m\u001b[0m \u001b[1m4s\u001b[0m 4ms/step - accuracy: 0.0896 - loss: 12.3772 - val_accuracy: 0.0316 - val_loss: 12.1777\n",
      "Epoch 6/8\n",
      "\u001b[1m1148/1148\u001b[0m \u001b[32m━━━━━━━━━━━━━━━━━━━━\u001b[0m\u001b[37m\u001b[0m \u001b[1m4s\u001b[0m 3ms/step - accuracy: 0.0897 - loss: 12.6261 - val_accuracy: 0.0416 - val_loss: 12.7351\n",
      "Epoch 7/8\n",
      "\u001b[1m1148/1148\u001b[0m \u001b[32m━━━━━━━━━━━━━━━━━━━━\u001b[0m\u001b[37m\u001b[0m \u001b[1m4s\u001b[0m 3ms/step - accuracy: 0.0836 - loss: 12.5637 - val_accuracy: 0.0342 - val_loss: 12.0531\n",
      "Epoch 8/8\n",
      "\u001b[1m1148/1148\u001b[0m \u001b[32m━━━━━━━━━━━━━━━━━━━━\u001b[0m\u001b[37m\u001b[0m \u001b[1m4s\u001b[0m 3ms/step - accuracy: 0.0831 - loss: 12.8977 - val_accuracy: 0.0357 - val_loss: 12.7385\n"
     ]
    },
    {
     "data": {
      "text/plain": [
       "<keras.src.callbacks.history.History at 0x19d19bfa490>"
      ]
     },
     "execution_count": 63,
     "metadata": {},
     "output_type": "execute_result"
    }
   ],
   "source": [
    "model.fit(X_train,\n",
    "          y_train,\n",
    "          batch_size=batch_size,\n",
    "          validation_data=(X_test, y_test),\n",
    "          epochs=epochs)"
   ]
  },
  {
   "cell_type": "code",
   "execution_count": 64,
   "id": "3dc5d9b4",
   "metadata": {},
   "outputs": [],
   "source": [
    "def confusion_matrix(y_true, y_pred):\n",
    "    y_true = pd.Series([stations[y] for y in np.argmax(y_true, axis=1)])\n",
    "    y_pred = pd.Series([stations[y] for y in np.argmax(y_pred, axis=1)])\n",
    "\n",
    "    return pd.crosstab(y_true, y_pred, rownames=['True'], colnames=['Pred'])"
   ]
  },
  {
   "cell_type": "code",
   "execution_count": 65,
   "id": "85fd7e36",
   "metadata": {},
   "outputs": [
    {
     "name": "stdout",
     "output_type": "stream",
     "text": [
      "\u001b[1m144/144\u001b[0m \u001b[32m━━━━━━━━━━━━━━━━━━━━\u001b[0m\u001b[37m\u001b[0m \u001b[1m1s\u001b[0m 3ms/step\n",
      "Pred        BELGRADE  BUDAPEST  MADRID  OSLO  VALENTIA\n",
      "True                                                  \n",
      "BASEL              1         0    1270    57      1666\n",
      "BELGRADE           2         1     824    14        34\n",
      "BUDAPEST           0         0     152     3         1\n",
      "DEBILT             0         0      59     0         1\n",
      "DUSSELDORF         0         0      27     0         1\n",
      "HEATHROW           0         0      71     2         5\n",
      "KASSEL             0         0      10     0         0\n",
      "LJUBLJANA          0         0      45     1         2\n",
      "MAASTRICHT         0         0       3     0         0\n",
      "MADRID             0         0     162    24       135\n",
      "MUNCHENB           0         0       4     1         0\n",
      "OSLO               0         0       7     0         0\n",
      "STOCKHOLM          0         0       4     0         0\n",
      "VALENTIA           0         0       1     0         0\n"
     ]
    }
   ],
   "source": [
    "# Evaluate\n",
    "print(confusion_matrix(y_test, model.predict(X_test)))"
   ]
  },
  {
   "cell_type": "code",
   "execution_count": 66,
   "id": "bcc4600c",
   "metadata": {},
   "outputs": [
    {
     "name": "stderr",
     "output_type": "stream",
     "text": [
      "C:\\Users\\Oksana Stepanova\\anaconda3\\Lib\\site-packages\\keras\\src\\layers\\rnn\\rnn.py:204: UserWarning: Do not pass an `input_shape`/`input_dim` argument to a layer. When using Sequential models, prefer using an `Input(shape)` object as the first layer in the model instead.\n",
      "  super().__init__(**kwargs)\n"
     ]
    }
   ],
   "source": [
    "# Create a Keras leyered model. Change hyperparameters: 20, 32, 128, softmax\n",
    "epochs = 20\n",
    "batch_size = 32\n",
    "n_hidden = 128\n",
    "\n",
    "timesteps = len(X_train[0])\n",
    "input_dim = len(X_train[0][0])\n",
    "n_classes = len(y_train[0])\n",
    "\n",
    "model = Sequential()\n",
    "model.add(LSTM(n_hidden, input_shape=(timesteps, input_dim)))\n",
    "model.add(Dropout(0.5))\n",
    "model.add(Dense(n_classes, activation='softmax')) #Don't use relu here!"
   ]
  },
  {
   "cell_type": "code",
   "execution_count": 67,
   "id": "7b23670d",
   "metadata": {},
   "outputs": [],
   "source": [
    "model.compile(loss='categorical_crossentropy',\n",
    "              optimizer='rmsprop',\n",
    "              metrics=['accuracy'])"
   ]
  },
  {
   "cell_type": "code",
   "execution_count": 68,
   "id": "acfbca02",
   "metadata": {},
   "outputs": [
    {
     "name": "stdout",
     "output_type": "stream",
     "text": [
      "Epoch 1/20\n",
      "\u001b[1m574/574\u001b[0m \u001b[32m━━━━━━━━━━━━━━━━━━━━\u001b[0m\u001b[37m\u001b[0m \u001b[1m5s\u001b[0m 7ms/step - accuracy: 0.0980 - loss: 10.8796 - val_accuracy: 0.0342 - val_loss: 10.1435\n",
      "Epoch 2/20\n",
      "\u001b[1m574/574\u001b[0m \u001b[32m━━━━━━━━━━━━━━━━━━━━\u001b[0m\u001b[37m\u001b[0m \u001b[1m4s\u001b[0m 7ms/step - accuracy: 0.0905 - loss: 11.8795 - val_accuracy: 0.0407 - val_loss: 10.8610\n",
      "Epoch 3/20\n",
      "\u001b[1m574/574\u001b[0m \u001b[32m━━━━━━━━━━━━━━━━━━━━\u001b[0m\u001b[37m\u001b[0m \u001b[1m4s\u001b[0m 7ms/step - accuracy: 0.0848 - loss: 12.6052 - val_accuracy: 0.0399 - val_loss: 11.3093\n",
      "Epoch 4/20\n",
      "\u001b[1m574/574\u001b[0m \u001b[32m━━━━━━━━━━━━━━━━━━━━\u001b[0m\u001b[37m\u001b[0m \u001b[1m4s\u001b[0m 7ms/step - accuracy: 0.0840 - loss: 12.9358 - val_accuracy: 0.0405 - val_loss: 12.0619\n",
      "Epoch 5/20\n",
      "\u001b[1m574/574\u001b[0m \u001b[32m━━━━━━━━━━━━━━━━━━━━\u001b[0m\u001b[37m\u001b[0m \u001b[1m4s\u001b[0m 6ms/step - accuracy: 0.0843 - loss: 13.3839 - val_accuracy: 0.0388 - val_loss: 12.9416\n",
      "Epoch 6/20\n",
      "\u001b[1m574/574\u001b[0m \u001b[32m━━━━━━━━━━━━━━━━━━━━\u001b[0m\u001b[37m\u001b[0m \u001b[1m4s\u001b[0m 6ms/step - accuracy: 0.0854 - loss: 14.0574 - val_accuracy: 0.0438 - val_loss: 13.3736\n",
      "Epoch 7/20\n",
      "\u001b[1m574/574\u001b[0m \u001b[32m━━━━━━━━━━━━━━━━━━━━\u001b[0m\u001b[37m\u001b[0m \u001b[1m4s\u001b[0m 7ms/step - accuracy: 0.0795 - loss: 14.7339 - val_accuracy: 0.0479 - val_loss: 13.1087\n",
      "Epoch 8/20\n",
      "\u001b[1m574/574\u001b[0m \u001b[32m━━━━━━━━━━━━━━━━━━━━\u001b[0m\u001b[37m\u001b[0m \u001b[1m5s\u001b[0m 9ms/step - accuracy: 0.0886 - loss: 14.5476 - val_accuracy: 0.0373 - val_loss: 13.8258\n",
      "Epoch 9/20\n",
      "\u001b[1m574/574\u001b[0m \u001b[32m━━━━━━━━━━━━━━━━━━━━\u001b[0m\u001b[37m\u001b[0m \u001b[1m5s\u001b[0m 8ms/step - accuracy: 0.0834 - loss: 15.2984 - val_accuracy: 0.0368 - val_loss: 14.4906\n",
      "Epoch 10/20\n",
      "\u001b[1m574/574\u001b[0m \u001b[32m━━━━━━━━━━━━━━━━━━━━\u001b[0m\u001b[37m\u001b[0m \u001b[1m5s\u001b[0m 8ms/step - accuracy: 0.0792 - loss: 15.6481 - val_accuracy: 0.0220 - val_loss: 15.1061\n",
      "Epoch 11/20\n",
      "\u001b[1m574/574\u001b[0m \u001b[32m━━━━━━━━━━━━━━━━━━━━\u001b[0m\u001b[37m\u001b[0m \u001b[1m5s\u001b[0m 9ms/step - accuracy: 0.0801 - loss: 16.3332 - val_accuracy: 0.0503 - val_loss: 15.8331\n",
      "Epoch 12/20\n",
      "\u001b[1m574/574\u001b[0m \u001b[32m━━━━━━━━━━━━━━━━━━━━\u001b[0m\u001b[37m\u001b[0m \u001b[1m4s\u001b[0m 8ms/step - accuracy: 0.0873 - loss: 16.5085 - val_accuracy: 0.0410 - val_loss: 16.5086\n",
      "Epoch 13/20\n",
      "\u001b[1m574/574\u001b[0m \u001b[32m━━━━━━━━━━━━━━━━━━━━\u001b[0m\u001b[37m\u001b[0m \u001b[1m5s\u001b[0m 8ms/step - accuracy: 0.0784 - loss: 17.2251 - val_accuracy: 0.0390 - val_loss: 17.2334\n",
      "Epoch 14/20\n",
      "\u001b[1m574/574\u001b[0m \u001b[32m━━━━━━━━━━━━━━━━━━━━\u001b[0m\u001b[37m\u001b[0m \u001b[1m4s\u001b[0m 8ms/step - accuracy: 0.0816 - loss: 17.4588 - val_accuracy: 0.0414 - val_loss: 17.1413\n",
      "Epoch 15/20\n",
      "\u001b[1m574/574\u001b[0m \u001b[32m━━━━━━━━━━━━━━━━━━━━\u001b[0m\u001b[37m\u001b[0m \u001b[1m5s\u001b[0m 8ms/step - accuracy: 0.0854 - loss: 17.6982 - val_accuracy: 0.0373 - val_loss: 17.5639\n",
      "Epoch 16/20\n",
      "\u001b[1m574/574\u001b[0m \u001b[32m━━━━━━━━━━━━━━━━━━━━\u001b[0m\u001b[37m\u001b[0m \u001b[1m4s\u001b[0m 8ms/step - accuracy: 0.0807 - loss: 17.9446 - val_accuracy: 0.0427 - val_loss: 18.2053\n",
      "Epoch 17/20\n",
      "\u001b[1m574/574\u001b[0m \u001b[32m━━━━━━━━━━━━━━━━━━━━\u001b[0m\u001b[37m\u001b[0m \u001b[1m5s\u001b[0m 8ms/step - accuracy: 0.0722 - loss: 18.7275 - val_accuracy: 0.0362 - val_loss: 19.2770\n",
      "Epoch 18/20\n",
      "\u001b[1m574/574\u001b[0m \u001b[32m━━━━━━━━━━━━━━━━━━━━\u001b[0m\u001b[37m\u001b[0m \u001b[1m5s\u001b[0m 9ms/step - accuracy: 0.0797 - loss: 18.9781 - val_accuracy: 0.0442 - val_loss: 19.2656\n",
      "Epoch 19/20\n",
      "\u001b[1m574/574\u001b[0m \u001b[32m━━━━━━━━━━━━━━━━━━━━\u001b[0m\u001b[37m\u001b[0m \u001b[1m5s\u001b[0m 8ms/step - accuracy: 0.0730 - loss: 19.3722 - val_accuracy: 0.0436 - val_loss: 19.7069\n",
      "Epoch 20/20\n",
      "\u001b[1m574/574\u001b[0m \u001b[32m━━━━━━━━━━━━━━━━━━━━\u001b[0m\u001b[37m\u001b[0m \u001b[1m5s\u001b[0m 8ms/step - accuracy: 0.0738 - loss: 20.3919 - val_accuracy: 0.0307 - val_loss: 20.3335\n"
     ]
    },
    {
     "data": {
      "text/plain": [
       "<keras.src.callbacks.history.History at 0x19d20934b90>"
      ]
     },
     "execution_count": 68,
     "metadata": {},
     "output_type": "execute_result"
    }
   ],
   "source": [
    "model.fit(X_train,\n",
    "          y_train,\n",
    "          batch_size=batch_size,\n",
    "          validation_data=(X_test, y_test),\n",
    "          epochs=epochs)"
   ]
  },
  {
   "cell_type": "code",
   "execution_count": 69,
   "id": "a8c8ffa7",
   "metadata": {},
   "outputs": [],
   "source": [
    "def confusion_matrix(y_true, y_pred):\n",
    "    y_true = pd.Series([stations[y] for y in np.argmax(y_true, axis=1)])\n",
    "    y_pred = pd.Series([stations[y] for y in np.argmax(y_pred, axis=1)])\n",
    "\n",
    "    return pd.crosstab(y_true, y_pred, rownames=['True'], colnames=['Pred'])"
   ]
  },
  {
   "cell_type": "code",
   "execution_count": 70,
   "id": "4e4dfac6",
   "metadata": {},
   "outputs": [
    {
     "name": "stdout",
     "output_type": "stream",
     "text": [
      "\u001b[1m144/144\u001b[0m \u001b[32m━━━━━━━━━━━━━━━━━━━━\u001b[0m\u001b[37m\u001b[0m \u001b[1m1s\u001b[0m 4ms/step\n",
      "Pred        MADRID  OSLO  VALENTIA\n",
      "True                              \n",
      "BASEL         1196     9      1789\n",
      "BELGRADE       802     5        68\n",
      "BUDAPEST       145     2         9\n",
      "DEBILT          58     1         1\n",
      "DUSSELDORF      22     0         6\n",
      "HEATHROW        63     1        14\n",
      "KASSEL           9     0         1\n",
      "LJUBLJANA       40     0         8\n",
      "MAASTRICHT       0     1         2\n",
      "MADRID         140    11       170\n",
      "MUNCHENB         2     0         3\n",
      "OSLO             7     0         0\n",
      "STOCKHOLM        4     0         0\n",
      "VALENTIA         0     0         1\n"
     ]
    }
   ],
   "source": [
    "# Evaluate\n",
    "print(confusion_matrix(y_test, model.predict(X_test)))"
   ]
  },
  {
   "cell_type": "code",
   "execution_count": 71,
   "id": "406d20bf",
   "metadata": {},
   "outputs": [
    {
     "name": "stderr",
     "output_type": "stream",
     "text": [
      "C:\\Users\\Oksana Stepanova\\anaconda3\\Lib\\site-packages\\keras\\src\\layers\\rnn\\rnn.py:204: UserWarning: Do not pass an `input_shape`/`input_dim` argument to a layer. When using Sequential models, prefer using an `Input(shape)` object as the first layer in the model instead.\n",
      "  super().__init__(**kwargs)\n"
     ]
    }
   ],
   "source": [
    "# Create a Keras leyered model. Change activation type: 20, 32, 128, sigmoid\n",
    "epochs = 20\n",
    "batch_size = 32\n",
    "n_hidden = 128\n",
    "\n",
    "timesteps = len(X_train[0])\n",
    "input_dim = len(X_train[0][0])\n",
    "n_classes = len(y_train[0])\n",
    "\n",
    "model = Sequential()\n",
    "model.add(LSTM(n_hidden, input_shape=(timesteps, input_dim)))\n",
    "model.add(Dropout(0.5))\n",
    "model.add(Dense(n_classes, activation='sigmoid')) #Don't use relu here!"
   ]
  },
  {
   "cell_type": "code",
   "execution_count": 72,
   "id": "79fbab45",
   "metadata": {},
   "outputs": [],
   "source": [
    "model.compile(loss='categorical_crossentropy',\n",
    "              optimizer='rmsprop',\n",
    "              metrics=['accuracy'])"
   ]
  },
  {
   "cell_type": "code",
   "execution_count": 73,
   "id": "d5b8416d",
   "metadata": {},
   "outputs": [
    {
     "name": "stdout",
     "output_type": "stream",
     "text": [
      "Epoch 1/20\n",
      "\u001b[1m574/574\u001b[0m \u001b[32m━━━━━━━━━━━━━━━━━━━━\u001b[0m\u001b[37m\u001b[0m \u001b[1m6s\u001b[0m 7ms/step - accuracy: 0.1077 - loss: 11.0769 - val_accuracy: 0.0410 - val_loss: 9.8854\n",
      "Epoch 2/20\n",
      "\u001b[1m574/574\u001b[0m \u001b[32m━━━━━━━━━━━━━━━━━━━━\u001b[0m\u001b[37m\u001b[0m \u001b[1m4s\u001b[0m 7ms/step - accuracy: 0.0934 - loss: 11.7060 - val_accuracy: 0.0392 - val_loss: 10.8019\n",
      "Epoch 3/20\n",
      "\u001b[1m574/574\u001b[0m \u001b[32m━━━━━━━━━━━━━━━━━━━━\u001b[0m\u001b[37m\u001b[0m \u001b[1m4s\u001b[0m 6ms/step - accuracy: 0.0906 - loss: 12.1626 - val_accuracy: 0.0346 - val_loss: 11.4452\n",
      "Epoch 4/20\n",
      "\u001b[1m574/574\u001b[0m \u001b[32m━━━━━━━━━━━━━━━━━━━━\u001b[0m\u001b[37m\u001b[0m \u001b[1m4s\u001b[0m 6ms/step - accuracy: 0.0900 - loss: 12.8311 - val_accuracy: 0.0418 - val_loss: 11.7628\n",
      "Epoch 5/20\n",
      "\u001b[1m574/574\u001b[0m \u001b[32m━━━━━━━━━━━━━━━━━━━━\u001b[0m\u001b[37m\u001b[0m \u001b[1m4s\u001b[0m 6ms/step - accuracy: 0.0925 - loss: 12.8208 - val_accuracy: 0.0285 - val_loss: 12.3621\n",
      "Epoch 6/20\n",
      "\u001b[1m574/574\u001b[0m \u001b[32m━━━━━━━━━━━━━━━━━━━━\u001b[0m\u001b[37m\u001b[0m \u001b[1m4s\u001b[0m 6ms/step - accuracy: 0.0895 - loss: 13.5329 - val_accuracy: 0.0366 - val_loss: 12.2854\n",
      "Epoch 7/20\n",
      "\u001b[1m574/574\u001b[0m \u001b[32m━━━━━━━━━━━━━━━━━━━━\u001b[0m\u001b[37m\u001b[0m \u001b[1m4s\u001b[0m 7ms/step - accuracy: 0.0910 - loss: 13.6740 - val_accuracy: 0.0392 - val_loss: 12.8265\n",
      "Epoch 8/20\n",
      "\u001b[1m574/574\u001b[0m \u001b[32m━━━━━━━━━━━━━━━━━━━━\u001b[0m\u001b[37m\u001b[0m \u001b[1m4s\u001b[0m 8ms/step - accuracy: 0.0838 - loss: 14.4033 - val_accuracy: 0.0394 - val_loss: 13.8432\n",
      "Epoch 9/20\n",
      "\u001b[1m574/574\u001b[0m \u001b[32m━━━━━━━━━━━━━━━━━━━━\u001b[0m\u001b[37m\u001b[0m \u001b[1m4s\u001b[0m 8ms/step - accuracy: 0.0885 - loss: 14.7794 - val_accuracy: 0.0397 - val_loss: 14.4354\n",
      "Epoch 10/20\n",
      "\u001b[1m574/574\u001b[0m \u001b[32m━━━━━━━━━━━━━━━━━━━━\u001b[0m\u001b[37m\u001b[0m \u001b[1m5s\u001b[0m 8ms/step - accuracy: 0.0896 - loss: 15.0540 - val_accuracy: 0.0381 - val_loss: 14.7418\n",
      "Epoch 11/20\n",
      "\u001b[1m574/574\u001b[0m \u001b[32m━━━━━━━━━━━━━━━━━━━━\u001b[0m\u001b[37m\u001b[0m \u001b[1m5s\u001b[0m 8ms/step - accuracy: 0.0860 - loss: 15.5780 - val_accuracy: 0.0296 - val_loss: 15.2580\n",
      "Epoch 12/20\n",
      "\u001b[1m574/574\u001b[0m \u001b[32m━━━━━━━━━━━━━━━━━━━━\u001b[0m\u001b[37m\u001b[0m \u001b[1m4s\u001b[0m 8ms/step - accuracy: 0.0817 - loss: 16.1971 - val_accuracy: 0.0431 - val_loss: 15.4963\n",
      "Epoch 13/20\n",
      "\u001b[1m574/574\u001b[0m \u001b[32m━━━━━━━━━━━━━━━━━━━━\u001b[0m\u001b[37m\u001b[0m \u001b[1m5s\u001b[0m 8ms/step - accuracy: 0.0831 - loss: 16.1750 - val_accuracy: 0.0357 - val_loss: 16.6559\n",
      "Epoch 14/20\n",
      "\u001b[1m574/574\u001b[0m \u001b[32m━━━━━━━━━━━━━━━━━━━━\u001b[0m\u001b[37m\u001b[0m \u001b[1m5s\u001b[0m 8ms/step - accuracy: 0.0811 - loss: 17.3643 - val_accuracy: 0.0401 - val_loss: 16.7990\n",
      "Epoch 15/20\n",
      "\u001b[1m574/574\u001b[0m \u001b[32m━━━━━━━━━━━━━━━━━━━━\u001b[0m\u001b[37m\u001b[0m \u001b[1m4s\u001b[0m 8ms/step - accuracy: 0.0825 - loss: 17.1872 - val_accuracy: 0.0364 - val_loss: 17.2111\n",
      "Epoch 16/20\n",
      "\u001b[1m574/574\u001b[0m \u001b[32m━━━━━━━━━━━━━━━━━━━━\u001b[0m\u001b[37m\u001b[0m \u001b[1m4s\u001b[0m 8ms/step - accuracy: 0.0836 - loss: 17.4659 - val_accuracy: 0.0484 - val_loss: 17.6876\n",
      "Epoch 17/20\n",
      "\u001b[1m574/574\u001b[0m \u001b[32m━━━━━━━━━━━━━━━━━━━━\u001b[0m\u001b[37m\u001b[0m \u001b[1m5s\u001b[0m 8ms/step - accuracy: 0.0780 - loss: 18.0957 - val_accuracy: 0.0397 - val_loss: 18.1088\n",
      "Epoch 18/20\n",
      "\u001b[1m574/574\u001b[0m \u001b[32m━━━━━━━━━━━━━━━━━━━━\u001b[0m\u001b[37m\u001b[0m \u001b[1m5s\u001b[0m 8ms/step - accuracy: 0.0857 - loss: 18.7036 - val_accuracy: 0.0449 - val_loss: 19.0792\n",
      "Epoch 19/20\n",
      "\u001b[1m574/574\u001b[0m \u001b[32m━━━━━━━━━━━━━━━━━━━━\u001b[0m\u001b[37m\u001b[0m \u001b[1m5s\u001b[0m 8ms/step - accuracy: 0.0774 - loss: 19.0462 - val_accuracy: 0.0390 - val_loss: 19.2189\n",
      "Epoch 20/20\n",
      "\u001b[1m574/574\u001b[0m \u001b[32m━━━━━━━━━━━━━━━━━━━━\u001b[0m\u001b[37m\u001b[0m \u001b[1m5s\u001b[0m 8ms/step - accuracy: 0.0764 - loss: 19.1803 - val_accuracy: 0.0392 - val_loss: 19.6316\n"
     ]
    },
    {
     "data": {
      "text/plain": [
       "<keras.src.callbacks.history.History at 0x19d1c2d6790>"
      ]
     },
     "execution_count": 73,
     "metadata": {},
     "output_type": "execute_result"
    }
   ],
   "source": [
    "model.fit(X_train,\n",
    "          y_train,\n",
    "          batch_size=batch_size,\n",
    "          validation_data=(X_test, y_test),\n",
    "          epochs=epochs)"
   ]
  },
  {
   "cell_type": "code",
   "execution_count": 75,
   "id": "5ba0a4b5",
   "metadata": {},
   "outputs": [],
   "source": [
    "# Create a confusion matrix\n",
    "def confusion_matrix(y_true, y_pred):\n",
    "    y_true = pd.Series([stations[y] for y in np.argmax(y_true, axis=1)])\n",
    "    y_pred = pd.Series([stations[y] for y in np.argmax(y_pred, axis=1)])\n",
    "\n",
    "    return pd.crosstab(y_true, y_pred, rownames=['True'], colnames=['Pred'])"
   ]
  },
  {
   "cell_type": "code",
   "execution_count": 76,
   "id": "38bcfe62",
   "metadata": {},
   "outputs": [
    {
     "name": "stdout",
     "output_type": "stream",
     "text": [
      "\u001b[1m144/144\u001b[0m \u001b[32m━━━━━━━━━━━━━━━━━━━━\u001b[0m\u001b[37m\u001b[0m \u001b[1m1s\u001b[0m 4ms/step\n",
      "Pred        BASEL  MADRID\n",
      "True                     \n",
      "BASEL        2993       1\n",
      "BELGRADE      875       0\n",
      "BUDAPEST      156       0\n",
      "DEBILT         60       0\n",
      "DUSSELDORF     28       0\n",
      "HEATHROW       78       0\n",
      "KASSEL         10       0\n",
      "LJUBLJANA      48       0\n",
      "MAASTRICHT      3       0\n",
      "MADRID        321       0\n",
      "MUNCHENB        5       0\n",
      "OSLO            7       0\n",
      "STOCKHOLM       4       0\n",
      "VALENTIA        1       0\n"
     ]
    }
   ],
   "source": [
    "# Evaluate\n",
    "print(confusion_matrix(y_test, model.predict(X_test)))"
   ]
  },
  {
   "cell_type": "code",
   "execution_count": 77,
   "id": "c600a654",
   "metadata": {},
   "outputs": [
    {
     "name": "stderr",
     "output_type": "stream",
     "text": [
      "C:\\Users\\Oksana Stepanova\\anaconda3\\Lib\\site-packages\\keras\\src\\layers\\rnn\\rnn.py:204: UserWarning: Do not pass an `input_shape`/`input_dim` argument to a layer. When using Sequential models, prefer using an `Input(shape)` object as the first layer in the model instead.\n",
      "  super().__init__(**kwargs)\n"
     ]
    }
   ],
   "source": [
    "# Create a Keras leyered model. Change activation type: 20, 32, 128, tanh\n",
    "epochs = 20\n",
    "batch_size = 32\n",
    "n_hidden = 128\n",
    "\n",
    "timesteps = len(X_train[0])\n",
    "input_dim = len(X_train[0][0])\n",
    "n_classes = len(y_train[0])\n",
    "\n",
    "model = Sequential()\n",
    "model.add(LSTM(n_hidden, input_shape=(timesteps, input_dim)))\n",
    "model.add(Dropout(0.5))\n",
    "model.add(Dense(n_classes, activation='tanh')) #Don't use relu here!"
   ]
  },
  {
   "cell_type": "code",
   "execution_count": 78,
   "id": "905920d8",
   "metadata": {},
   "outputs": [],
   "source": [
    "model.compile(loss='categorical_crossentropy',\n",
    "              optimizer='rmsprop',\n",
    "              metrics=['accuracy'])"
   ]
  },
  {
   "cell_type": "code",
   "execution_count": 79,
   "id": "6f794a40",
   "metadata": {},
   "outputs": [
    {
     "name": "stdout",
     "output_type": "stream",
     "text": [
      "Epoch 1/20\n",
      "\u001b[1m574/574\u001b[0m \u001b[32m━━━━━━━━━━━━━━━━━━━━\u001b[0m\u001b[37m\u001b[0m \u001b[1m5s\u001b[0m 7ms/step - accuracy: 0.0318 - loss: 24.8265 - val_accuracy: 0.0691 - val_loss: 23.9743\n",
      "Epoch 2/20\n",
      "\u001b[1m574/574\u001b[0m \u001b[32m━━━━━━━━━━━━━━━━━━━━\u001b[0m\u001b[37m\u001b[0m \u001b[1m4s\u001b[0m 7ms/step - accuracy: 0.0522 - loss: 25.4061 - val_accuracy: 0.0695 - val_loss: 24.5916\n",
      "Epoch 3/20\n",
      "\u001b[1m574/574\u001b[0m \u001b[32m━━━━━━━━━━━━━━━━━━━━\u001b[0m\u001b[37m\u001b[0m \u001b[1m4s\u001b[0m 7ms/step - accuracy: 0.0495 - loss: 24.7399 - val_accuracy: 0.0634 - val_loss: 21.9100\n",
      "Epoch 4/20\n",
      "\u001b[1m574/574\u001b[0m \u001b[32m━━━━━━━━━━━━━━━━━━━━\u001b[0m\u001b[37m\u001b[0m \u001b[1m4s\u001b[0m 6ms/step - accuracy: 0.0482 - loss: 24.6020 - val_accuracy: 0.0031 - val_loss: 27.2579\n",
      "Epoch 5/20\n",
      "\u001b[1m574/574\u001b[0m \u001b[32m━━━━━━━━━━━━━━━━━━━━\u001b[0m\u001b[37m\u001b[0m \u001b[1m4s\u001b[0m 6ms/step - accuracy: 0.0168 - loss: 24.4286 - val_accuracy: 0.0022 - val_loss: 24.8346\n",
      "Epoch 6/20\n",
      "\u001b[1m574/574\u001b[0m \u001b[32m━━━━━━━━━━━━━━━━━━━━\u001b[0m\u001b[37m\u001b[0m \u001b[1m4s\u001b[0m 6ms/step - accuracy: 0.0077 - loss: 24.6619 - val_accuracy: 0.0031 - val_loss: 24.8270\n",
      "Epoch 7/20\n",
      "\u001b[1m574/574\u001b[0m \u001b[32m━━━━━━━━━━━━━━━━━━━━\u001b[0m\u001b[37m\u001b[0m \u001b[1m4s\u001b[0m 7ms/step - accuracy: 0.0059 - loss: 25.1948 - val_accuracy: 0.0022 - val_loss: 27.4006\n",
      "Epoch 8/20\n",
      "\u001b[1m574/574\u001b[0m \u001b[32m━━━━━━━━━━━━━━━━━━━━\u001b[0m\u001b[37m\u001b[0m \u001b[1m5s\u001b[0m 8ms/step - accuracy: 0.0054 - loss: 24.8174 - val_accuracy: 0.0048 - val_loss: 29.3807\n",
      "Epoch 9/20\n",
      "\u001b[1m574/574\u001b[0m \u001b[32m━━━━━━━━━━━━━━━━━━━━\u001b[0m\u001b[37m\u001b[0m \u001b[1m4s\u001b[0m 8ms/step - accuracy: 0.0065 - loss: 24.2510 - val_accuracy: 0.0022 - val_loss: 30.8898\n",
      "Epoch 10/20\n",
      "\u001b[1m574/574\u001b[0m \u001b[32m━━━━━━━━━━━━━━━━━━━━\u001b[0m\u001b[37m\u001b[0m \u001b[1m5s\u001b[0m 9ms/step - accuracy: 0.0075 - loss: 24.2068 - val_accuracy: 0.0170 - val_loss: 26.3518\n",
      "Epoch 11/20\n",
      "\u001b[1m574/574\u001b[0m \u001b[32m━━━━━━━━━━━━━━━━━━━━\u001b[0m\u001b[37m\u001b[0m \u001b[1m5s\u001b[0m 8ms/step - accuracy: 0.0143 - loss: 24.9562 - val_accuracy: 0.0022 - val_loss: 26.7232\n",
      "Epoch 12/20\n",
      "\u001b[1m574/574\u001b[0m \u001b[32m━━━━━━━━━━━━━━━━━━━━\u001b[0m\u001b[37m\u001b[0m \u001b[1m5s\u001b[0m 9ms/step - accuracy: 0.0093 - loss: 23.9220 - val_accuracy: 0.0170 - val_loss: 25.5889\n",
      "Epoch 13/20\n",
      "\u001b[1m574/574\u001b[0m \u001b[32m━━━━━━━━━━━━━━━━━━━━\u001b[0m\u001b[37m\u001b[0m \u001b[1m5s\u001b[0m 8ms/step - accuracy: 0.0156 - loss: 24.4852 - val_accuracy: 0.0170 - val_loss: 23.8593\n",
      "Epoch 14/20\n",
      "\u001b[1m574/574\u001b[0m \u001b[32m━━━━━━━━━━━━━━━━━━━━\u001b[0m\u001b[37m\u001b[0m \u001b[1m5s\u001b[0m 9ms/step - accuracy: 0.0143 - loss: 24.5376 - val_accuracy: 0.0172 - val_loss: 25.5149\n",
      "Epoch 15/20\n",
      "\u001b[1m574/574\u001b[0m \u001b[32m━━━━━━━━━━━━━━━━━━━━\u001b[0m\u001b[37m\u001b[0m \u001b[1m5s\u001b[0m 8ms/step - accuracy: 0.0162 - loss: 24.6000 - val_accuracy: 0.0133 - val_loss: 23.6971\n",
      "Epoch 16/20\n",
      "\u001b[1m574/574\u001b[0m \u001b[32m━━━━━━━━━━━━━━━━━━━━\u001b[0m\u001b[37m\u001b[0m \u001b[1m5s\u001b[0m 8ms/step - accuracy: 0.0132 - loss: 24.2340 - val_accuracy: 0.0022 - val_loss: 25.1720\n",
      "Epoch 17/20\n",
      "\u001b[1m574/574\u001b[0m \u001b[32m━━━━━━━━━━━━━━━━━━━━\u001b[0m\u001b[37m\u001b[0m \u001b[1m5s\u001b[0m 9ms/step - accuracy: 0.0051 - loss: 24.3849 - val_accuracy: 0.0022 - val_loss: 23.4305\n",
      "Epoch 18/20\n",
      "\u001b[1m574/574\u001b[0m \u001b[32m━━━━━━━━━━━━━━━━━━━━\u001b[0m\u001b[37m\u001b[0m \u001b[1m5s\u001b[0m 8ms/step - accuracy: 0.0026 - loss: 24.3101 - val_accuracy: 0.0022 - val_loss: 26.1811\n",
      "Epoch 19/20\n",
      "\u001b[1m574/574\u001b[0m \u001b[32m━━━━━━━━━━━━━━━━━━━━\u001b[0m\u001b[37m\u001b[0m \u001b[1m5s\u001b[0m 8ms/step - accuracy: 0.0040 - loss: 24.7061 - val_accuracy: 0.0022 - val_loss: 24.2001\n",
      "Epoch 20/20\n",
      "\u001b[1m574/574\u001b[0m \u001b[32m━━━━━━━━━━━━━━━━━━━━\u001b[0m\u001b[37m\u001b[0m \u001b[1m5s\u001b[0m 9ms/step - accuracy: 0.0073 - loss: 24.2770 - val_accuracy: 0.0022 - val_loss: 25.0691\n"
     ]
    },
    {
     "data": {
      "text/plain": [
       "<keras.src.callbacks.history.History at 0x19d20922210>"
      ]
     },
     "execution_count": 79,
     "metadata": {},
     "output_type": "execute_result"
    }
   ],
   "source": [
    "model.fit(X_train,\n",
    "          y_train,\n",
    "          batch_size=batch_size,\n",
    "          validation_data=(X_test, y_test),\n",
    "          epochs=epochs)"
   ]
  },
  {
   "cell_type": "code",
   "execution_count": 80,
   "id": "497fca10",
   "metadata": {},
   "outputs": [],
   "source": [
    "# Create a confusion matrix\n",
    "def confusion_matrix(y_true, y_pred):\n",
    "    y_true = pd.Series([stations[y] for y in np.argmax(y_true, axis=1)])\n",
    "    y_pred = pd.Series([stations[y] for y in np.argmax(y_pred, axis=1)])\n",
    "\n",
    "    return pd.crosstab(y_true, y_pred, rownames=['True'], colnames=['Pred'])"
   ]
  },
  {
   "cell_type": "code",
   "execution_count": 81,
   "id": "07150171",
   "metadata": {},
   "outputs": [
    {
     "name": "stdout",
     "output_type": "stream",
     "text": [
      "\u001b[1m144/144\u001b[0m \u001b[32m━━━━━━━━━━━━━━━━━━━━\u001b[0m\u001b[37m\u001b[0m \u001b[1m1s\u001b[0m 4ms/step\n",
      "Pred        BELGRADE  HEATHROW  KASSEL\n",
      "True                                  \n",
      "BASEL             21       151    2822\n",
      "BELGRADE           0        76     799\n",
      "BUDAPEST           0         7     149\n",
      "DEBILT             0         5      55\n",
      "DUSSELDORF         0         0      28\n",
      "HEATHROW           0         0      78\n",
      "KASSEL             0         0      10\n",
      "LJUBLJANA          0         0      48\n",
      "MAASTRICHT         0         0       3\n",
      "MADRID             0         0     321\n",
      "MUNCHENB           0         0       5\n",
      "OSLO               0         0       7\n",
      "STOCKHOLM          0         0       4\n",
      "VALENTIA           0         0       1\n"
     ]
    }
   ],
   "source": [
    "# Evaluate\n",
    "print(confusion_matrix(y_test, model.predict(X_test)))"
   ]
  },
  {
   "cell_type": "code",
   "execution_count": 85,
   "id": "284c354f",
   "metadata": {},
   "outputs": [],
   "source": [
    "# Create a Keras leyered model. Hyperparameters: 20, 32, 128, sigmoid. Add Convolution and Pooling layers\n",
    "epochs = 20\n",
    "batch_size = 32\n",
    "n_hidden = 128\n",
    "\n",
    "timesteps = len(X_train[0])\n",
    "input_dim = len(X_train[0][0])\n",
    "n_classes = len(y_train[0])\n",
    "\n",
    "model = Sequential()\n",
    "model.add(Conv1D(filters=64, kernel_size=3, activation='relu', input_shape=(timesteps, input_dim)))\n",
    "model.add(MaxPooling1D(pool_size=2))\n",
    "model.add(Conv1D(filters=128, kernel_size=3, activation='relu'))\n",
    "model.add(MaxPooling1D(pool_size=2))\n",
    "model.add(LSTM(n_hidden))\n",
    "model.add(Dropout(0.5))\n",
    "model.add(Dense(n_classes, activation='sigmoid'))"
   ]
  },
  {
   "cell_type": "code",
   "execution_count": 86,
   "id": "d8e57876",
   "metadata": {},
   "outputs": [],
   "source": [
    "model.compile(loss='categorical_crossentropy',\n",
    "              optimizer='rmsprop',\n",
    "              metrics=['accuracy'])"
   ]
  },
  {
   "cell_type": "code",
   "execution_count": 87,
   "id": "bc7d8ad2",
   "metadata": {},
   "outputs": [
    {
     "name": "stdout",
     "output_type": "stream",
     "text": [
      "Epoch 1/20\n",
      "\u001b[1m574/574\u001b[0m \u001b[32m━━━━━━━━━━━━━━━━━━━━\u001b[0m\u001b[37m\u001b[0m \u001b[1m4s\u001b[0m 4ms/step - accuracy: 0.1294 - loss: 11.3644 - val_accuracy: 0.0486 - val_loss: 10.9013\n",
      "Epoch 2/20\n",
      "\u001b[1m574/574\u001b[0m \u001b[32m━━━━━━━━━━━━━━━━━━━━\u001b[0m\u001b[37m\u001b[0m \u001b[1m2s\u001b[0m 4ms/step - accuracy: 0.1067 - loss: 11.9829 - val_accuracy: 0.0503 - val_loss: 11.8927\n",
      "Epoch 3/20\n",
      "\u001b[1m574/574\u001b[0m \u001b[32m━━━━━━━━━━━━━━━━━━━━\u001b[0m\u001b[37m\u001b[0m \u001b[1m2s\u001b[0m 4ms/step - accuracy: 0.1002 - loss: 13.3093 - val_accuracy: 0.0593 - val_loss: 12.9599\n",
      "Epoch 4/20\n",
      "\u001b[1m574/574\u001b[0m \u001b[32m━━━━━━━━━━━━━━━━━━━━\u001b[0m\u001b[37m\u001b[0m \u001b[1m2s\u001b[0m 4ms/step - accuracy: 0.0960 - loss: 13.8741 - val_accuracy: 0.0601 - val_loss: 13.7561\n",
      "Epoch 5/20\n",
      "\u001b[1m574/574\u001b[0m \u001b[32m━━━━━━━━━━━━━━━━━━━━\u001b[0m\u001b[37m\u001b[0m \u001b[1m2s\u001b[0m 4ms/step - accuracy: 0.0917 - loss: 14.5695 - val_accuracy: 0.0619 - val_loss: 14.6582\n",
      "Epoch 6/20\n",
      "\u001b[1m574/574\u001b[0m \u001b[32m━━━━━━━━━━━━━━━━━━━━\u001b[0m\u001b[37m\u001b[0m \u001b[1m2s\u001b[0m 4ms/step - accuracy: 0.0979 - loss: 15.3435 - val_accuracy: 0.0614 - val_loss: 15.5714\n",
      "Epoch 7/20\n",
      "\u001b[1m574/574\u001b[0m \u001b[32m━━━━━━━━━━━━━━━━━━━━\u001b[0m\u001b[37m\u001b[0m \u001b[1m2s\u001b[0m 4ms/step - accuracy: 0.0952 - loss: 16.3780 - val_accuracy: 0.0610 - val_loss: 16.1608\n",
      "Epoch 8/20\n",
      "\u001b[1m574/574\u001b[0m \u001b[32m━━━━━━━━━━━━━━━━━━━━\u001b[0m\u001b[37m\u001b[0m \u001b[1m2s\u001b[0m 4ms/step - accuracy: 0.0842 - loss: 16.8990 - val_accuracy: 0.0492 - val_loss: 16.7332\n",
      "Epoch 9/20\n",
      "\u001b[1m574/574\u001b[0m \u001b[32m━━━━━━━━━━━━━━━━━━━━\u001b[0m\u001b[37m\u001b[0m \u001b[1m2s\u001b[0m 4ms/step - accuracy: 0.0883 - loss: 17.1434 - val_accuracy: 0.0564 - val_loss: 17.5626\n",
      "Epoch 10/20\n",
      "\u001b[1m574/574\u001b[0m \u001b[32m━━━━━━━━━━━━━━━━━━━━\u001b[0m\u001b[37m\u001b[0m \u001b[1m2s\u001b[0m 4ms/step - accuracy: 0.0850 - loss: 18.0340 - val_accuracy: 0.0516 - val_loss: 18.3310\n",
      "Epoch 11/20\n",
      "\u001b[1m574/574\u001b[0m \u001b[32m━━━━━━━━━━━━━━━━━━━━\u001b[0m\u001b[37m\u001b[0m \u001b[1m2s\u001b[0m 4ms/step - accuracy: 0.0803 - loss: 18.7228 - val_accuracy: 0.0516 - val_loss: 18.9406\n",
      "Epoch 12/20\n",
      "\u001b[1m574/574\u001b[0m \u001b[32m━━━━━━━━━━━━━━━━━━━━\u001b[0m\u001b[37m\u001b[0m \u001b[1m2s\u001b[0m 4ms/step - accuracy: 0.0855 - loss: 19.2877 - val_accuracy: 0.0460 - val_loss: 19.7594\n",
      "Epoch 13/20\n",
      "\u001b[1m574/574\u001b[0m \u001b[32m━━━━━━━━━━━━━━━━━━━━\u001b[0m\u001b[37m\u001b[0m \u001b[1m2s\u001b[0m 4ms/step - accuracy: 0.0861 - loss: 20.0168 - val_accuracy: 0.0540 - val_loss: 20.8854\n",
      "Epoch 14/20\n",
      "\u001b[1m574/574\u001b[0m \u001b[32m━━━━━━━━━━━━━━━━━━━━\u001b[0m\u001b[37m\u001b[0m \u001b[1m3s\u001b[0m 4ms/step - accuracy: 0.0852 - loss: 21.1601 - val_accuracy: 0.0584 - val_loss: 21.7686\n",
      "Epoch 15/20\n",
      "\u001b[1m574/574\u001b[0m \u001b[32m━━━━━━━━━━━━━━━━━━━━\u001b[0m\u001b[37m\u001b[0m \u001b[1m3s\u001b[0m 4ms/step - accuracy: 0.0827 - loss: 21.4818 - val_accuracy: 0.0593 - val_loss: 22.2332\n",
      "Epoch 16/20\n",
      "\u001b[1m574/574\u001b[0m \u001b[32m━━━━━━━━━━━━━━━━━━━━\u001b[0m\u001b[37m\u001b[0m \u001b[1m3s\u001b[0m 5ms/step - accuracy: 0.0808 - loss: 22.1473 - val_accuracy: 0.0632 - val_loss: 22.7168\n",
      "Epoch 17/20\n",
      "\u001b[1m574/574\u001b[0m \u001b[32m━━━━━━━━━━━━━━━━━━━━\u001b[0m\u001b[37m\u001b[0m \u001b[1m3s\u001b[0m 4ms/step - accuracy: 0.0841 - loss: 23.0093 - val_accuracy: 0.0523 - val_loss: 23.2783\n",
      "Epoch 18/20\n",
      "\u001b[1m574/574\u001b[0m \u001b[32m━━━━━━━━━━━━━━━━━━━━\u001b[0m\u001b[37m\u001b[0m \u001b[1m3s\u001b[0m 4ms/step - accuracy: 0.0764 - loss: 22.9109 - val_accuracy: 0.0529 - val_loss: 24.1655\n",
      "Epoch 19/20\n",
      "\u001b[1m574/574\u001b[0m \u001b[32m━━━━━━━━━━━━━━━━━━━━\u001b[0m\u001b[37m\u001b[0m \u001b[1m3s\u001b[0m 5ms/step - accuracy: 0.0733 - loss: 24.2687 - val_accuracy: 0.0510 - val_loss: 24.7314\n",
      "Epoch 20/20\n",
      "\u001b[1m574/574\u001b[0m \u001b[32m━━━━━━━━━━━━━━━━━━━━\u001b[0m\u001b[37m\u001b[0m \u001b[1m3s\u001b[0m 4ms/step - accuracy: 0.0766 - loss: 24.6605 - val_accuracy: 0.0545 - val_loss: 25.9433\n"
     ]
    },
    {
     "data": {
      "text/plain": [
       "<keras.src.callbacks.history.History at 0x19d20eacb90>"
      ]
     },
     "execution_count": 87,
     "metadata": {},
     "output_type": "execute_result"
    }
   ],
   "source": [
    "model.fit(X_train,\n",
    "          y_train,\n",
    "          batch_size=batch_size,\n",
    "          validation_data=(X_test, y_test),\n",
    "          epochs=epochs)"
   ]
  },
  {
   "cell_type": "code",
   "execution_count": 88,
   "id": "d818a894",
   "metadata": {},
   "outputs": [],
   "source": [
    "# Create a confusion matrix\n",
    "def confusion_matrix(y_true, y_pred):\n",
    "    y_true = pd.Series([stations[y] for y in np.argmax(y_true, axis=1)])\n",
    "    y_pred = pd.Series([stations[y] for y in np.argmax(y_pred, axis=1)])\n",
    "\n",
    "    return pd.crosstab(y_true, y_pred, rownames=['True'], colnames=['Pred'])"
   ]
  },
  {
   "cell_type": "code",
   "execution_count": 89,
   "id": "7c5f0f13",
   "metadata": {},
   "outputs": [
    {
     "name": "stdout",
     "output_type": "stream",
     "text": [
      "\u001b[1m144/144\u001b[0m \u001b[32m━━━━━━━━━━━━━━━━━━━━\u001b[0m\u001b[37m\u001b[0m \u001b[1m1s\u001b[0m 3ms/step\n",
      "Pred        BASEL  BELGRADE  MADRID  MUNCHENB\n",
      "True                                         \n",
      "BASEL        2993         1       0         0\n",
      "BELGRADE      873         0       2         0\n",
      "BUDAPEST      156         0       0         0\n",
      "DEBILT         60         0       0         0\n",
      "DUSSELDORF     28         0       0         0\n",
      "HEATHROW       77         0       0         1\n",
      "KASSEL         10         0       0         0\n",
      "LJUBLJANA      48         0       0         0\n",
      "MAASTRICHT      3         0       0         0\n",
      "MADRID        318         0       3         0\n",
      "MUNCHENB        5         0       0         0\n",
      "OSLO            7         0       0         0\n",
      "STOCKHOLM       4         0       0         0\n",
      "VALENTIA        1         0       0         0\n"
     ]
    }
   ],
   "source": [
    "# Evaluate\n",
    "print(confusion_matrix(y_test, model.predict(X_test)))"
   ]
  },
  {
   "cell_type": "code",
   "execution_count": null,
   "id": "a045394a",
   "metadata": {},
   "outputs": [],
   "source": []
  }
 ],
 "metadata": {
  "kernelspec": {
   "display_name": "Python 3 (ipykernel)",
   "language": "python",
   "name": "python3"
  },
  "language_info": {
   "codemirror_mode": {
    "name": "ipython",
    "version": 3
   },
   "file_extension": ".py",
   "mimetype": "text/x-python",
   "name": "python",
   "nbconvert_exporter": "python",
   "pygments_lexer": "ipython3",
   "version": "3.11.5"
  }
 },
 "nbformat": 4,
 "nbformat_minor": 5
}
